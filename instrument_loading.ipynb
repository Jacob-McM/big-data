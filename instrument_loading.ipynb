{
  "nbformat": 4,
  "nbformat_minor": 0,
  "metadata": {
    "colab": {
      "provenance": [],
      "authorship_tag": "ABX9TyOVB0xDVe6IejA7jD1LsnOl",
      "include_colab_link": true
    },
    "kernelspec": {
      "name": "python3",
      "display_name": "Python 3"
    },
    "language_info": {
      "name": "python"
    }
  },
  "cells": [
    {
      "cell_type": "markdown",
      "metadata": {
        "id": "view-in-github",
        "colab_type": "text"
      },
      "source": [
        "<a href=\"https://colab.research.google.com/github/Jacob-McM/big-data/blob/main/instrument_loading.ipynb\" target=\"_parent\"><img src=\"https://colab.research.google.com/assets/colab-badge.svg\" alt=\"Open In Colab\"/></a>"
      ]
    },
    {
      "cell_type": "code",
      "execution_count": 6,
      "metadata": {
        "colab": {
          "base_uri": "https://localhost:8080/"
        },
        "id": "DzooV9OTmxbS",
        "outputId": "7bcd2fff-1fbd-4398-9e90-5f495aee27ee"
      },
      "outputs": [
        {
          "output_type": "stream",
          "name": "stdout",
          "text": [
            "\r0% [Working]\r            \rGet:1 http://security.ubuntu.com/ubuntu bionic-security InRelease [88.7 kB]\n",
            "\r0% [Waiting for headers] [1 InRelease 0 B/88.7 kB 0%] [Connected to cloud.r-pro\r                                                                               \rHit:2 http://archive.ubuntu.com/ubuntu bionic InRelease\n",
            "\r0% [Waiting for headers] [1 InRelease 22.9 kB/88.7 kB 26%] [Connected to cloud.\r0% [2 InRelease gpgv 242 kB] [Waiting for headers] [1 InRelease 22.9 kB/88.7 kB\r                                                                               \rGet:3 http://archive.ubuntu.com/ubuntu bionic-updates InRelease [88.7 kB]\n",
            "\r0% [2 InRelease gpgv 242 kB] [3 InRelease 14.2 kB/88.7 kB 16%] [1 InRelease 43.\r                                                                               \rHit:4 https://cloud.r-project.org/bin/linux/ubuntu bionic-cran40/ InRelease\n",
            "\r0% [2 InRelease gpgv 242 kB] [3 InRelease 15.6 kB/88.7 kB 18%] [1 InRelease 43.\r0% [2 InRelease gpgv 242 kB] [3 InRelease 24.3 kB/88.7 kB 27%] [Waiting for hea\r                                                                               \rIgn:5 https://developer.download.nvidia.com/compute/machine-learning/repos/ubuntu1804/x86_64  InRelease\n",
            "\r0% [2 InRelease gpgv 242 kB] [3 InRelease 30.1 kB/88.7 kB 34%] [Waiting for hea\r                                                                               \rHit:6 https://developer.download.nvidia.com/compute/cuda/repos/ubuntu1804/x86_64  InRelease\n",
            "\r0% [2 InRelease gpgv 242 kB] [3 InRelease 46.0 kB/88.7 kB 52%] [Waiting for hea\r                                                                               \rHit:7 https://developer.download.nvidia.com/compute/machine-learning/repos/ubuntu1804/x86_64  Release\n",
            "\r0% [2 InRelease gpgv 242 kB] [3 InRelease 53.3 kB/88.7 kB 60%] [Waiting for hea\r                                                                               \rHit:8 http://ppa.launchpad.net/c2d4u.team/c2d4u4.0+/ubuntu bionic InRelease\n",
            "Get:9 http://archive.ubuntu.com/ubuntu bionic-backports InRelease [83.3 kB]\n",
            "Hit:10 http://ppa.launchpad.net/cran/libgit2/ubuntu bionic InRelease\n",
            "Hit:11 http://ppa.launchpad.net/deadsnakes/ppa/ubuntu bionic InRelease\n",
            "Hit:12 http://ppa.launchpad.net/graphics-drivers/ppa/ubuntu bionic InRelease\n",
            "Fetched 261 kB in 2s (110 kB/s)\n",
            "Reading package lists... Done\n"
          ]
        }
      ],
      "source": [
        "import os\n",
        "# Find the latest version of spark 3.2  from http://www.apache.org/dist/spark/ and enter as the spark version\n",
        "# For example:\n",
        "# spark_version = 'spark-3.2.2'\n",
        "spark_version = 'spark-3.2.3'\n",
        "os.environ['SPARK_VERSION']=spark_version\n",
        "\n",
        "# Install Spark and Java\n",
        "!apt-get update\n",
        "!apt-get install openjdk-11-jdk-headless -qq > /dev/null\n",
        "!wget -q http://www.apache.org/dist/spark/$SPARK_VERSION/$SPARK_VERSION-bin-hadoop2.7.tgz\n",
        "!tar xf $SPARK_VERSION-bin-hadoop2.7.tgz\n",
        "!pip install -q findspark\n",
        "\n",
        "# Set Environment Variables\n",
        "import os\n",
        "os.environ[\"JAVA_HOME\"] = \"/usr/lib/jvm/java-11-openjdk-amd64\"\n",
        "os.environ[\"SPARK_HOME\"] = f\"/content/{spark_version}-bin-hadoop2.7\"\n",
        "\n",
        "# Start a SparkSession\n",
        "import findspark\n",
        "findspark.init()"
      ]
    },
    {
      "cell_type": "code",
      "source": [
        "!wget https://jdbc.postgresql.org/download/postgresql-42.2.9.jar"
      ],
      "metadata": {
        "colab": {
          "base_uri": "https://localhost:8080/"
        },
        "id": "W_lifXZuo-Tm",
        "outputId": "d26be392-9d72-4aaf-a7ea-58326fa981af"
      },
      "execution_count": 7,
      "outputs": [
        {
          "output_type": "stream",
          "name": "stdout",
          "text": [
            "--2022-11-30 04:02:34--  https://jdbc.postgresql.org/download/postgresql-42.2.9.jar\n",
            "Resolving jdbc.postgresql.org (jdbc.postgresql.org)... 72.32.157.228, 2001:4800:3e1:1::228\n",
            "Connecting to jdbc.postgresql.org (jdbc.postgresql.org)|72.32.157.228|:443... connected.\n",
            "HTTP request sent, awaiting response... 200 OK\n",
            "Length: 914037 (893K) [application/java-archive]\n",
            "Saving to: ‘postgresql-42.2.9.jar.1’\n",
            "\n",
            "postgresql-42.2.9.j 100%[===================>] 892.61K  5.76MB/s    in 0.2s    \n",
            "\n",
            "2022-11-30 04:02:34 (5.76 MB/s) - ‘postgresql-42.2.9.jar.1’ saved [914037/914037]\n",
            "\n"
          ]
        }
      ]
    },
    {
      "cell_type": "code",
      "source": [
        "from pyspark.sql import SparkSession\n",
        "\n",
        "spark = SparkSession.builder.appName(\"CloudETL\").config(\"spark.driver.extraClassPath\",\"/content/postgresql-42.2.9.jar\").getOrCreate()"
      ],
      "metadata": {
        "id": "y4xTk_Vjo_wF"
      },
      "execution_count": 8,
      "outputs": []
    },
    {
      "cell_type": "code",
      "source": [
        "from pyspark import SparkFiles\n",
        "\n",
        "url = \"https://s3.amazonaws.com/amazon-reviews-pds/tsv/amazon_reviews_us_Musical_Instruments_v1_00.tsv.gz\"\n",
        "spark.sparkContext.addFile(url)\n",
        "instrument_reviews_df = spark.read.csv(SparkFiles.get(\"amazon_reviews_us_Musical_Instruments_v1_00.tsv.gz\"), sep=\"\\t\", header=True, inferSchema=True)\n",
        "\n",
        "instrument_reviews_df.show()"
      ],
      "metadata": {
        "colab": {
          "base_uri": "https://localhost:8080/"
        },
        "id": "08bNK1WapBJH",
        "outputId": "36b9225f-ca1b-4272-b1ad-34582e4a90ce"
      },
      "execution_count": 9,
      "outputs": [
        {
          "output_type": "stream",
          "name": "stdout",
          "text": [
            "+-----------+-----------+--------------+----------+--------------+--------------------+-------------------+-----------+-------------+-----------+----+-----------------+--------------------+--------------------+-----------+\n",
            "|marketplace|customer_id|     review_id|product_id|product_parent|       product_title|   product_category|star_rating|helpful_votes|total_votes|vine|verified_purchase|     review_headline|         review_body|review_date|\n",
            "+-----------+-----------+--------------+----------+--------------+--------------------+-------------------+-----------+-------------+-----------+----+-----------------+--------------------+--------------------+-----------+\n",
            "|         US|   45610553| RMDCHWD0Y5OZ9|B00HH62VB6|     618218723|AGPtek® 10 Isolat...|Musical Instruments|          3|            0|          1|   N|                N|         Three Stars|Works very good, ...| 2015-08-31|\n",
            "|         US|   14640079| RZSL0BALIYUNU|B003LRN53I|     986692292|Sennheiser HD203 ...|Musical Instruments|          5|            0|          0|   N|                Y|          Five Stars|Nice headphones a...| 2015-08-31|\n",
            "|         US|    6111003| RIZR67JKUDBI0|B0006VMBHI|     603261968|AudioQuest LP rec...|Musical Instruments|          3|            0|          1|   N|                Y|         Three Stars|removes dust. doe...| 2015-08-31|\n",
            "|         US|    1546619|R27HL570VNL85F|B002B55TRG|     575084461|Hohner Inc. 560BX...|Musical Instruments|          5|            0|          0|   N|                Y|I purchase these ...|I purchase these ...| 2015-08-31|\n",
            "|         US|   12222213|R34EBU9QDWJ1GD|B00N1YPXW2|     165236328|Blue Yeti USB Mic...|Musical Instruments|          5|            0|          0|   N|                Y|          Five Stars|This is an awesom...| 2015-08-31|\n",
            "|         US|   46018513|R1WCUI4Z1SIQEO|B001N4GRGS|     134151483|Middle Atlantic P...|Musical Instruments|          5|            0|          0|   N|                N|          Five Stars|Used to cool equi...| 2015-08-31|\n",
            "|         US|   10225065| RL5LNO26GAVJ1|B009PJRMHQ|     694166585|Kmise 1pc Pickgua...|Musical Instruments|          2|            3|          4|   N|                Y|Will not Fit Epip...|Note- Does not Fi...| 2015-08-31|\n",
            "|         US|    6356995|R3GYQ5W8JHP8SB|B00NKBDAZS|     446431775|Kealoha Concert U...|Musical Instruments|          5|            0|          0|   N|                Y|          Five Stars|Well built Ukulel...| 2015-08-31|\n",
            "|         US|   35297198|R30SHYQXGG5EYC|B006MIU7U2|     125871705|Halco 80000 - MR1...|Musical Instruments|          5|            0|          0|   N|                Y|Works fine. Hope ...|Had to replace a ...| 2015-08-31|\n",
            "|         US|   32139520|R14YLXA56NP51I|B000FIBD0I|     771888534|Gator GPTBLACK Pl...|Musical Instruments|          5|            1|          1|   N|                N|I upgraded the po...|I've owned multip...| 2015-08-31|\n",
            "|         US|   36060782|R1ZH0HSH38IOTZ|B0002E52GG|      68535945|Hetman 1 - Light ...|Musical Instruments|          5|            0|          0|   N|                Y|My son's favourit...|Consistent qualit...| 2015-08-31|\n",
            "|         US|    5301309|R3H53KLLC210XI|B00RZIH52G|     725541773|Dragonpad pop fil...|Musical Instruments|          4|            0|          0|   N|                Y|Great pop filter ...|by far the best p...| 2015-08-31|\n",
            "|         US|   37472935|R3OOR877NGA8JK|B001792BAU|      46570323|DharmaObjects Rel...|Musical Instruments|          3|            0|          0|   N|                Y|                  Ok|Beautiful set. On...| 2015-08-31|\n",
            "|         US|   33578270|R1BY7WKOZ3KMH0|B009GSKW1Y|     547963417|Musiclily SSS Pla...|Musical Instruments|          2|            0|          0|   N|                Y|           Two Stars|Bridge pickup was...| 2015-08-31|\n",
            "|         US|   22070226| RXP1TFSWE8EG9|B0002F4TKA|     436074323|Vic Firth America...|Musical Instruments|          5|            0|          0|   N|                Y|          Five Stars|Feels good and la...| 2015-08-31|\n",
            "|         US|   52862655|R3J44DPP12OTLJ|B00K17YFBW|      81933093|Guitar Stand for ...|Musical Instruments|          5|            0|          0|   N|                Y|Great stand... on...|I love the stand....| 2015-08-31|\n",
            "|         US|    4427243| RFOV69SK0T676|B00EQ24HJS|     669249276|Generic 3PLY Faux...|Musical Instruments|          5|            0|          0|   N|                Y|Looks great. You ...|On time. Looks gr...| 2015-08-31|\n",
            "|         US|   14108571|R2HUWDNW62FOL3|B00IBOYTUE|     749537231|Audio 2000 6525 3...|Musical Instruments|          1|            0|          0|   N|                Y|  Poor sound quality|I was hoping it w...| 2015-08-31|\n",
            "|         US|   27314089|R1KSU30XZGR452|B00FBRUSAE|     792472601|Sawtooth ST-AMP-1...|Musical Instruments|          5|            0|          0|   N|                Y|Perfect for the b...|Good sound for it...| 2015-08-31|\n",
            "|         US|   16735445|R2TZVLLTSHA07N|B0113D2QUO|     269114019|Upado Unlimited G...|Musical Instruments|          5|            1|          1|   N|                Y|It really is a mu...|Wow! I didn't exp...| 2015-08-31|\n",
            "+-----------+-----------+--------------+----------+--------------+--------------------+-------------------+-----------+-------------+-----------+----+-----------------+--------------------+--------------------+-----------+\n",
            "only showing top 20 rows\n",
            "\n"
          ]
        }
      ]
    },
    {
      "cell_type": "code",
      "source": [
        "## Record Count\n",
        "instrument_reviews_df.count()"
      ],
      "metadata": {
        "colab": {
          "base_uri": "https://localhost:8080/"
        },
        "id": "buVzfaOgpWvx",
        "outputId": "beb70351-e5d1-4b5c-db5b-866572932cd8"
      },
      "execution_count": 10,
      "outputs": [
        {
          "output_type": "execute_result",
          "data": {
            "text/plain": [
              "904765"
            ]
          },
          "metadata": {},
          "execution_count": 10
        }
      ]
    },
    {
      "cell_type": "code",
      "source": [
        "instrument_na_df = instrument_reviews_df.dropna(how='any')\n",
        "instrument_na_df.show()"
      ],
      "metadata": {
        "colab": {
          "base_uri": "https://localhost:8080/"
        },
        "id": "f5nvj5V9pswC",
        "outputId": "50d1b80e-dbaa-4b43-d11a-eca94c41a802"
      },
      "execution_count": 11,
      "outputs": [
        {
          "output_type": "stream",
          "name": "stdout",
          "text": [
            "+-----------+-----------+--------------+----------+--------------+--------------------+-------------------+-----------+-------------+-----------+----+-----------------+--------------------+--------------------+-----------+\n",
            "|marketplace|customer_id|     review_id|product_id|product_parent|       product_title|   product_category|star_rating|helpful_votes|total_votes|vine|verified_purchase|     review_headline|         review_body|review_date|\n",
            "+-----------+-----------+--------------+----------+--------------+--------------------+-------------------+-----------+-------------+-----------+----+-----------------+--------------------+--------------------+-----------+\n",
            "|         US|   45610553| RMDCHWD0Y5OZ9|B00HH62VB6|     618218723|AGPtek® 10 Isolat...|Musical Instruments|          3|            0|          1|   N|                N|         Three Stars|Works very good, ...| 2015-08-31|\n",
            "|         US|   14640079| RZSL0BALIYUNU|B003LRN53I|     986692292|Sennheiser HD203 ...|Musical Instruments|          5|            0|          0|   N|                Y|          Five Stars|Nice headphones a...| 2015-08-31|\n",
            "|         US|    6111003| RIZR67JKUDBI0|B0006VMBHI|     603261968|AudioQuest LP rec...|Musical Instruments|          3|            0|          1|   N|                Y|         Three Stars|removes dust. doe...| 2015-08-31|\n",
            "|         US|    1546619|R27HL570VNL85F|B002B55TRG|     575084461|Hohner Inc. 560BX...|Musical Instruments|          5|            0|          0|   N|                Y|I purchase these ...|I purchase these ...| 2015-08-31|\n",
            "|         US|   12222213|R34EBU9QDWJ1GD|B00N1YPXW2|     165236328|Blue Yeti USB Mic...|Musical Instruments|          5|            0|          0|   N|                Y|          Five Stars|This is an awesom...| 2015-08-31|\n",
            "|         US|   46018513|R1WCUI4Z1SIQEO|B001N4GRGS|     134151483|Middle Atlantic P...|Musical Instruments|          5|            0|          0|   N|                N|          Five Stars|Used to cool equi...| 2015-08-31|\n",
            "|         US|   10225065| RL5LNO26GAVJ1|B009PJRMHQ|     694166585|Kmise 1pc Pickgua...|Musical Instruments|          2|            3|          4|   N|                Y|Will not Fit Epip...|Note- Does not Fi...| 2015-08-31|\n",
            "|         US|    6356995|R3GYQ5W8JHP8SB|B00NKBDAZS|     446431775|Kealoha Concert U...|Musical Instruments|          5|            0|          0|   N|                Y|          Five Stars|Well built Ukulel...| 2015-08-31|\n",
            "|         US|   35297198|R30SHYQXGG5EYC|B006MIU7U2|     125871705|Halco 80000 - MR1...|Musical Instruments|          5|            0|          0|   N|                Y|Works fine. Hope ...|Had to replace a ...| 2015-08-31|\n",
            "|         US|   32139520|R14YLXA56NP51I|B000FIBD0I|     771888534|Gator GPTBLACK Pl...|Musical Instruments|          5|            1|          1|   N|                N|I upgraded the po...|I've owned multip...| 2015-08-31|\n",
            "|         US|   36060782|R1ZH0HSH38IOTZ|B0002E52GG|      68535945|Hetman 1 - Light ...|Musical Instruments|          5|            0|          0|   N|                Y|My son's favourit...|Consistent qualit...| 2015-08-31|\n",
            "|         US|    5301309|R3H53KLLC210XI|B00RZIH52G|     725541773|Dragonpad pop fil...|Musical Instruments|          4|            0|          0|   N|                Y|Great pop filter ...|by far the best p...| 2015-08-31|\n",
            "|         US|   37472935|R3OOR877NGA8JK|B001792BAU|      46570323|DharmaObjects Rel...|Musical Instruments|          3|            0|          0|   N|                Y|                  Ok|Beautiful set. On...| 2015-08-31|\n",
            "|         US|   33578270|R1BY7WKOZ3KMH0|B009GSKW1Y|     547963417|Musiclily SSS Pla...|Musical Instruments|          2|            0|          0|   N|                Y|           Two Stars|Bridge pickup was...| 2015-08-31|\n",
            "|         US|   22070226| RXP1TFSWE8EG9|B0002F4TKA|     436074323|Vic Firth America...|Musical Instruments|          5|            0|          0|   N|                Y|          Five Stars|Feels good and la...| 2015-08-31|\n",
            "|         US|   52862655|R3J44DPP12OTLJ|B00K17YFBW|      81933093|Guitar Stand for ...|Musical Instruments|          5|            0|          0|   N|                Y|Great stand... on...|I love the stand....| 2015-08-31|\n",
            "|         US|    4427243| RFOV69SK0T676|B00EQ24HJS|     669249276|Generic 3PLY Faux...|Musical Instruments|          5|            0|          0|   N|                Y|Looks great. You ...|On time. Looks gr...| 2015-08-31|\n",
            "|         US|   14108571|R2HUWDNW62FOL3|B00IBOYTUE|     749537231|Audio 2000 6525 3...|Musical Instruments|          1|            0|          0|   N|                Y|  Poor sound quality|I was hoping it w...| 2015-08-31|\n",
            "|         US|   27314089|R1KSU30XZGR452|B00FBRUSAE|     792472601|Sawtooth ST-AMP-1...|Musical Instruments|          5|            0|          0|   N|                Y|Perfect for the b...|Good sound for it...| 2015-08-31|\n",
            "|         US|   16735445|R2TZVLLTSHA07N|B0113D2QUO|     269114019|Upado Unlimited G...|Musical Instruments|          5|            1|          1|   N|                Y|It really is a mu...|Wow! I didn't exp...| 2015-08-31|\n",
            "+-----------+-----------+--------------+----------+--------------+--------------------+-------------------+-----------+-------------+-----------+----+-----------------+--------------------+--------------------+-----------+\n",
            "only showing top 20 rows\n",
            "\n"
          ]
        }
      ]
    },
    {
      "cell_type": "code",
      "source": [
        "instrument_na_df.dtypes"
      ],
      "metadata": {
        "colab": {
          "base_uri": "https://localhost:8080/"
        },
        "id": "YegkRMNNpyRa",
        "outputId": "94cd57a8-afac-48e5-9d4b-e6992641777e"
      },
      "execution_count": 12,
      "outputs": [
        {
          "output_type": "execute_result",
          "data": {
            "text/plain": [
              "[('marketplace', 'string'),\n",
              " ('customer_id', 'int'),\n",
              " ('review_id', 'string'),\n",
              " ('product_id', 'string'),\n",
              " ('product_parent', 'int'),\n",
              " ('product_title', 'string'),\n",
              " ('product_category', 'string'),\n",
              " ('star_rating', 'int'),\n",
              " ('helpful_votes', 'int'),\n",
              " ('total_votes', 'int'),\n",
              " ('vine', 'string'),\n",
              " ('verified_purchase', 'string'),\n",
              " ('review_headline', 'string'),\n",
              " ('review_body', 'string'),\n",
              " ('review_date', 'string')]"
            ]
          },
          "metadata": {},
          "execution_count": 12
        }
      ]
    },
    {
      "cell_type": "markdown",
      "source": [
        "KEEP:\n",
        "\n",
        "|review_id|customer_id|product_id|product_parent|review_date|product_title|customer_count|star_rating |helpful_votes|total_votes|vine|\n",
        "|---|---|---|---|---|---|---|---|---|---|---|\n",
        "\n",
        "\n",
        "DROP:\n",
        "\n",
        "|marketplace|product_category|verified_purchace|review_headline|review_body|\n",
        "|-|-|-|-|-|\n"
      ],
      "metadata": {
        "id": "A_aKHs5mp5pq"
      }
    },
    {
      "cell_type": "code",
      "source": [
        "instrument_database_df = instrument_na_df.drop('marketplace','product_category','verified_purchase','review_headline','review_body')\n",
        "instrument_database_df.show()"
      ],
      "metadata": {
        "colab": {
          "base_uri": "https://localhost:8080/"
        },
        "id": "SOjFRDYmp2Pz",
        "outputId": "2f640c92-d4aa-40db-c460-1431d1cb5040"
      },
      "execution_count": 13,
      "outputs": [
        {
          "output_type": "stream",
          "name": "stdout",
          "text": [
            "+-----------+--------------+----------+--------------+--------------------+-----------+-------------+-----------+----+-----------+\n",
            "|customer_id|     review_id|product_id|product_parent|       product_title|star_rating|helpful_votes|total_votes|vine|review_date|\n",
            "+-----------+--------------+----------+--------------+--------------------+-----------+-------------+-----------+----+-----------+\n",
            "|   45610553| RMDCHWD0Y5OZ9|B00HH62VB6|     618218723|AGPtek® 10 Isolat...|          3|            0|          1|   N| 2015-08-31|\n",
            "|   14640079| RZSL0BALIYUNU|B003LRN53I|     986692292|Sennheiser HD203 ...|          5|            0|          0|   N| 2015-08-31|\n",
            "|    6111003| RIZR67JKUDBI0|B0006VMBHI|     603261968|AudioQuest LP rec...|          3|            0|          1|   N| 2015-08-31|\n",
            "|    1546619|R27HL570VNL85F|B002B55TRG|     575084461|Hohner Inc. 560BX...|          5|            0|          0|   N| 2015-08-31|\n",
            "|   12222213|R34EBU9QDWJ1GD|B00N1YPXW2|     165236328|Blue Yeti USB Mic...|          5|            0|          0|   N| 2015-08-31|\n",
            "|   46018513|R1WCUI4Z1SIQEO|B001N4GRGS|     134151483|Middle Atlantic P...|          5|            0|          0|   N| 2015-08-31|\n",
            "|   10225065| RL5LNO26GAVJ1|B009PJRMHQ|     694166585|Kmise 1pc Pickgua...|          2|            3|          4|   N| 2015-08-31|\n",
            "|    6356995|R3GYQ5W8JHP8SB|B00NKBDAZS|     446431775|Kealoha Concert U...|          5|            0|          0|   N| 2015-08-31|\n",
            "|   35297198|R30SHYQXGG5EYC|B006MIU7U2|     125871705|Halco 80000 - MR1...|          5|            0|          0|   N| 2015-08-31|\n",
            "|   32139520|R14YLXA56NP51I|B000FIBD0I|     771888534|Gator GPTBLACK Pl...|          5|            1|          1|   N| 2015-08-31|\n",
            "|   36060782|R1ZH0HSH38IOTZ|B0002E52GG|      68535945|Hetman 1 - Light ...|          5|            0|          0|   N| 2015-08-31|\n",
            "|    5301309|R3H53KLLC210XI|B00RZIH52G|     725541773|Dragonpad pop fil...|          4|            0|          0|   N| 2015-08-31|\n",
            "|   37472935|R3OOR877NGA8JK|B001792BAU|      46570323|DharmaObjects Rel...|          3|            0|          0|   N| 2015-08-31|\n",
            "|   33578270|R1BY7WKOZ3KMH0|B009GSKW1Y|     547963417|Musiclily SSS Pla...|          2|            0|          0|   N| 2015-08-31|\n",
            "|   22070226| RXP1TFSWE8EG9|B0002F4TKA|     436074323|Vic Firth America...|          5|            0|          0|   N| 2015-08-31|\n",
            "|   52862655|R3J44DPP12OTLJ|B00K17YFBW|      81933093|Guitar Stand for ...|          5|            0|          0|   N| 2015-08-31|\n",
            "|    4427243| RFOV69SK0T676|B00EQ24HJS|     669249276|Generic 3PLY Faux...|          5|            0|          0|   N| 2015-08-31|\n",
            "|   14108571|R2HUWDNW62FOL3|B00IBOYTUE|     749537231|Audio 2000 6525 3...|          1|            0|          0|   N| 2015-08-31|\n",
            "|   27314089|R1KSU30XZGR452|B00FBRUSAE|     792472601|Sawtooth ST-AMP-1...|          5|            0|          0|   N| 2015-08-31|\n",
            "|   16735445|R2TZVLLTSHA07N|B0113D2QUO|     269114019|Upado Unlimited G...|          5|            1|          1|   N| 2015-08-31|\n",
            "+-----------+--------------+----------+--------------+--------------------+-----------+-------------+-----------+----+-----------+\n",
            "only showing top 20 rows\n",
            "\n"
          ]
        }
      ]
    },
    {
      "cell_type": "code",
      "source": [
        "instrument_count = instrument_database_df.groupby(\"customer_id\").agg({\"customer_id\":\"count\"})\n",
        "instrument_count.show()"
      ],
      "metadata": {
        "colab": {
          "base_uri": "https://localhost:8080/"
        },
        "id": "dPMB2Zxxp-65",
        "outputId": "4b9bf491-cbdd-4ce9-d3c4-b4b1325ab55f"
      },
      "execution_count": 14,
      "outputs": [
        {
          "output_type": "stream",
          "name": "stdout",
          "text": [
            "+-----------+------------------+\n",
            "|customer_id|count(customer_id)|\n",
            "+-----------+------------------+\n",
            "|   27314089|                 1|\n",
            "|    6711334|                 1|\n",
            "|   44525866|                 4|\n",
            "|   47461997|                 1|\n",
            "|   42560427|                 1|\n",
            "|   35225823|                 1|\n",
            "|   52526865|                20|\n",
            "|    1954060|                 1|\n",
            "|   34202730|                 3|\n",
            "|   40014361|                 1|\n",
            "|   42719693|                 1|\n",
            "|   27252006|                 1|\n",
            "|   48297144|                 1|\n",
            "|   12204397|                 1|\n",
            "|   17090175|                 2|\n",
            "|   13352125|                 9|\n",
            "|   46958825|                28|\n",
            "|     134138|                 1|\n",
            "|     283456|                 1|\n",
            "|   42847010|                 2|\n",
            "+-----------+------------------+\n",
            "only showing top 20 rows\n",
            "\n"
          ]
        }
      ]
    },
    {
      "cell_type": "code",
      "source": [
        "instrument_join_df = instrument_database_df.join(instrument_count, on=\"customer_id\", how='inner')\n",
        "instrument_join_df.show()"
      ],
      "metadata": {
        "colab": {
          "base_uri": "https://localhost:8080/"
        },
        "id": "LiqdnAf2qH7c",
        "outputId": "57430eb6-7573-4a68-d199-a24510fcb6ed"
      },
      "execution_count": 16,
      "outputs": [
        {
          "output_type": "stream",
          "name": "stdout",
          "text": [
            "+-----------+--------------+----------+--------------+--------------------+-----------+-------------+-----------+----+-----------+------------------+\n",
            "|customer_id|     review_id|product_id|product_parent|       product_title|star_rating|helpful_votes|total_votes|vine|review_date|count(customer_id)|\n",
            "+-----------+--------------+----------+--------------+--------------------+-----------+-------------+-----------+----+-----------+------------------+\n",
            "|      10136|  RQ7OXCB6FQGZ|B002GYPS3M|     889395489|Audio-Technica AT...|          5|            0|          0|   N| 2013-02-28|                 1|\n",
            "|      10271| RJHNQQD3NAATU|B0056I7VYY|     405110012|Kala MK-SD-LBLBUR...|          5|            1|          2|   N| 2012-11-30|                 1|\n",
            "|      10626| RCF3DB6OQEUXF|B0002F74E8|     647820337|Sony MDR7502 Prof...|          5|            1|          1|   N| 2014-11-05|                 1|\n",
            "|      10637|R35CSJBJF4ENZ6|B000NRQSKQ|     198522889|D'Addario Phospho...|          5|            0|          0|   N| 2013-11-21|                 1|\n",
            "|      10774|R14O7UYZCUPVLI|B007F3ZDES|     119975079|38\" Acoustic Guit...|          5|            2|          2|   N| 2013-06-25|                 1|\n",
            "|      10835|R251J7X0HP8WZ6|B004GE19E2|     910630892|106 Primary Red G...|          5|            0|          0|   N| 2014-11-17|                 1|\n",
            "|      10913| RPG5T3MQ6VYS2|B0049J4O0K|     198739434|Best Choice Produ...|          1|            0|          0|   N| 2014-01-11|                 1|\n",
            "|      10947|R3STI0MXXE2RDL|B00A716FB0|     548136255|ChromaCast Acoust...|          5|            0|          0|   N| 2014-07-23|                 2|\n",
            "|      10947|  R2BBMNFI704K|B0018TIADQ|     991924617|Musician's Gear E...|          3|            0|          0|   N| 2014-07-23|                 2|\n",
            "|      11121|R24XY8LMF2FK6U|B00BMIHGXS|     105904225|Cordoba Soundhole...|          5|            0|          0|   N| 2015-03-01|                 1|\n",
            "|      11125|R2NV19RBPO5BMV|B005KPJXHQ|       1175069|Dampp-Chaser - Pi...|          5|            0|          0|   N| 2014-11-17|                 2|\n",
            "|      11125|R17OQZ2W2CEFBT|B007MW7FLQ|     607378630|The Essential Col...|          4|            1|          1|   N| 2014-10-23|                 2|\n",
            "|      11382|R1MZ1KSCWTHRUV|B00B8QC9O0|     336472231|Peavey Electronic...|          3|            1|          6|   N| 2014-05-04|                 1|\n",
            "|      12186| RQ67T8OCUZ6ZO|B00W8MPZRQ|      54581951|Anybest BL-01 Dua...|          5|            0|          0|   N| 2015-08-21|                 1|\n",
            "|      12467| RJ824KL3SP0FV|B007MWXE02|     111330041|   BEHRINGER PSU3-UL|          1|            5|          5|   N| 2013-11-26|                 1|\n",
            "|      12677| RGEAI9ZL8R4NQ|B008AOH1O6|     188807159|Dragonpad pop fil...|          5|            0|          0|   N| 2015-03-16|                 1|\n",
            "|      13015| RWESBKZ7P7DQ0|B005KH55D0|     971137867|Ultra-Pure Oils U...|          5|            0|          0|   N| 2014-02-27|                 1|\n",
            "|      13397| RLMQEUHS9S3ZD|B0002F5G6Q|     609073215|Treeworks Padded ...|          5|            0|          0|   N| 2014-07-04|                 7|\n",
            "|      13397|R2QNTSNAI9RQ1A|B0002F7A06|     211675297|Kaces KPHD46W 46-...|          5|            0|          0|   N| 2014-07-04|                 7|\n",
            "|      13397|R1RKLC7LWOEHVG|B0007L712C|     952758704|Treeworks Hard-Si...|          5|            1|          1|   N| 2014-07-04|                 7|\n",
            "+-----------+--------------+----------+--------------+--------------------+-----------+-------------+-----------+----+-----------+------------------+\n",
            "only showing top 20 rows\n",
            "\n"
          ]
        }
      ]
    },
    {
      "cell_type": "code",
      "source": [
        "instrument_join_df = instrument_join_df.withColumnRenamed(\"count(customer_id)\",\"customer_count\")\n",
        "instrument_join_df.show()"
      ],
      "metadata": {
        "colab": {
          "base_uri": "https://localhost:8080/"
        },
        "id": "JloPOhLlqUq-",
        "outputId": "770ba9cb-42bf-429e-957c-21f226559943"
      },
      "execution_count": 17,
      "outputs": [
        {
          "output_type": "stream",
          "name": "stdout",
          "text": [
            "+-----------+--------------+----------+--------------+--------------------+-----------+-------------+-----------+----+-----------+--------------+\n",
            "|customer_id|     review_id|product_id|product_parent|       product_title|star_rating|helpful_votes|total_votes|vine|review_date|customer_count|\n",
            "+-----------+--------------+----------+--------------+--------------------+-----------+-------------+-----------+----+-----------+--------------+\n",
            "|      10136|  RQ7OXCB6FQGZ|B002GYPS3M|     889395489|Audio-Technica AT...|          5|            0|          0|   N| 2013-02-28|             1|\n",
            "|      10271| RJHNQQD3NAATU|B0056I7VYY|     405110012|Kala MK-SD-LBLBUR...|          5|            1|          2|   N| 2012-11-30|             1|\n",
            "|      10626| RCF3DB6OQEUXF|B0002F74E8|     647820337|Sony MDR7502 Prof...|          5|            1|          1|   N| 2014-11-05|             1|\n",
            "|      10637|R35CSJBJF4ENZ6|B000NRQSKQ|     198522889|D'Addario Phospho...|          5|            0|          0|   N| 2013-11-21|             1|\n",
            "|      10774|R14O7UYZCUPVLI|B007F3ZDES|     119975079|38\" Acoustic Guit...|          5|            2|          2|   N| 2013-06-25|             1|\n",
            "|      10835|R251J7X0HP8WZ6|B004GE19E2|     910630892|106 Primary Red G...|          5|            0|          0|   N| 2014-11-17|             1|\n",
            "|      10913| RPG5T3MQ6VYS2|B0049J4O0K|     198739434|Best Choice Produ...|          1|            0|          0|   N| 2014-01-11|             1|\n",
            "|      10947|R3STI0MXXE2RDL|B00A716FB0|     548136255|ChromaCast Acoust...|          5|            0|          0|   N| 2014-07-23|             2|\n",
            "|      10947|  R2BBMNFI704K|B0018TIADQ|     991924617|Musician's Gear E...|          3|            0|          0|   N| 2014-07-23|             2|\n",
            "|      11121|R24XY8LMF2FK6U|B00BMIHGXS|     105904225|Cordoba Soundhole...|          5|            0|          0|   N| 2015-03-01|             1|\n",
            "|      11125|R2NV19RBPO5BMV|B005KPJXHQ|       1175069|Dampp-Chaser - Pi...|          5|            0|          0|   N| 2014-11-17|             2|\n",
            "|      11125|R17OQZ2W2CEFBT|B007MW7FLQ|     607378630|The Essential Col...|          4|            1|          1|   N| 2014-10-23|             2|\n",
            "|      11382|R1MZ1KSCWTHRUV|B00B8QC9O0|     336472231|Peavey Electronic...|          3|            1|          6|   N| 2014-05-04|             1|\n",
            "|      12186| RQ67T8OCUZ6ZO|B00W8MPZRQ|      54581951|Anybest BL-01 Dua...|          5|            0|          0|   N| 2015-08-21|             1|\n",
            "|      12467| RJ824KL3SP0FV|B007MWXE02|     111330041|   BEHRINGER PSU3-UL|          1|            5|          5|   N| 2013-11-26|             1|\n",
            "|      12677| RGEAI9ZL8R4NQ|B008AOH1O6|     188807159|Dragonpad pop fil...|          5|            0|          0|   N| 2015-03-16|             1|\n",
            "|      13015| RWESBKZ7P7DQ0|B005KH55D0|     971137867|Ultra-Pure Oils U...|          5|            0|          0|   N| 2014-02-27|             1|\n",
            "|      13397| RLMQEUHS9S3ZD|B0002F5G6Q|     609073215|Treeworks Padded ...|          5|            0|          0|   N| 2014-07-04|             7|\n",
            "|      13397|R2QNTSNAI9RQ1A|B0002F7A06|     211675297|Kaces KPHD46W 46-...|          5|            0|          0|   N| 2014-07-04|             7|\n",
            "|      13397|R1RKLC7LWOEHVG|B0007L712C|     952758704|Treeworks Hard-Si...|          5|            1|          1|   N| 2014-07-04|             7|\n",
            "+-----------+--------------+----------+--------------+--------------------+-----------+-------------+-----------+----+-----------+--------------+\n",
            "only showing top 20 rows\n",
            "\n"
          ]
        }
      ]
    },
    {
      "cell_type": "code",
      "source": [
        "# Load a function that allows us to select columns\n",
        "from pyspark.sql.functions import col\n",
        "\n",
        "review_id_df = instrument_join_df.select(['review_id','customer_id','product_id','product_parent','review_date'])\n",
        "review_id_df.show()"
      ],
      "metadata": {
        "colab": {
          "base_uri": "https://localhost:8080/"
        },
        "id": "yzsR9dIrqlN2",
        "outputId": "362f6e23-fb06-46ff-8d73-d99fb413fc86"
      },
      "execution_count": 18,
      "outputs": [
        {
          "output_type": "stream",
          "name": "stdout",
          "text": [
            "+--------------+-----------+----------+--------------+-----------+\n",
            "|     review_id|customer_id|product_id|product_parent|review_date|\n",
            "+--------------+-----------+----------+--------------+-----------+\n",
            "| RMDCHWD0Y5OZ9|   45610553|B00HH62VB6|     618218723| 2015-08-31|\n",
            "| RZSL0BALIYUNU|   14640079|B003LRN53I|     986692292| 2015-08-31|\n",
            "| RIZR67JKUDBI0|    6111003|B0006VMBHI|     603261968| 2015-08-31|\n",
            "|R27HL570VNL85F|    1546619|B002B55TRG|     575084461| 2015-08-31|\n",
            "|R34EBU9QDWJ1GD|   12222213|B00N1YPXW2|     165236328| 2015-08-31|\n",
            "|R1WCUI4Z1SIQEO|   46018513|B001N4GRGS|     134151483| 2015-08-31|\n",
            "| RL5LNO26GAVJ1|   10225065|B009PJRMHQ|     694166585| 2015-08-31|\n",
            "|R3GYQ5W8JHP8SB|    6356995|B00NKBDAZS|     446431775| 2015-08-31|\n",
            "|R30SHYQXGG5EYC|   35297198|B006MIU7U2|     125871705| 2015-08-31|\n",
            "|R14YLXA56NP51I|   32139520|B000FIBD0I|     771888534| 2015-08-31|\n",
            "|R1ZH0HSH38IOTZ|   36060782|B0002E52GG|      68535945| 2015-08-31|\n",
            "|R3H53KLLC210XI|    5301309|B00RZIH52G|     725541773| 2015-08-31|\n",
            "|R3OOR877NGA8JK|   37472935|B001792BAU|      46570323| 2015-08-31|\n",
            "|R1BY7WKOZ3KMH0|   33578270|B009GSKW1Y|     547963417| 2015-08-31|\n",
            "| RXP1TFSWE8EG9|   22070226|B0002F4TKA|     436074323| 2015-08-31|\n",
            "|R3J44DPP12OTLJ|   52862655|B00K17YFBW|      81933093| 2015-08-31|\n",
            "| RFOV69SK0T676|    4427243|B00EQ24HJS|     669249276| 2015-08-31|\n",
            "|R2HUWDNW62FOL3|   14108571|B00IBOYTUE|     749537231| 2015-08-31|\n",
            "|R1KSU30XZGR452|   27314089|B00FBRUSAE|     792472601| 2015-08-31|\n",
            "|R2TZVLLTSHA07N|   16735445|B0113D2QUO|     269114019| 2015-08-31|\n",
            "+--------------+-----------+----------+--------------+-----------+\n",
            "only showing top 20 rows\n",
            "\n"
          ]
        }
      ]
    },
    {
      "cell_type": "code",
      "source": [
        "products_df = instrument_join_df.select(['product_id','product_title'])\n",
        "products_df.show()"
      ],
      "metadata": {
        "colab": {
          "base_uri": "https://localhost:8080/"
        },
        "id": "BRbojP4uqobj",
        "outputId": "ee6340c6-b256-4194-9506-6562a1ee7344"
      },
      "execution_count": 19,
      "outputs": [
        {
          "output_type": "stream",
          "name": "stdout",
          "text": [
            "+----------+--------------------+\n",
            "|product_id|       product_title|\n",
            "+----------+--------------------+\n",
            "|B00HH62VB6|AGPtek® 10 Isolat...|\n",
            "|B003LRN53I|Sennheiser HD203 ...|\n",
            "|B0006VMBHI|AudioQuest LP rec...|\n",
            "|B002B55TRG|Hohner Inc. 560BX...|\n",
            "|B00N1YPXW2|Blue Yeti USB Mic...|\n",
            "|B001N4GRGS|Middle Atlantic P...|\n",
            "|B009PJRMHQ|Kmise 1pc Pickgua...|\n",
            "|B00NKBDAZS|Kealoha Concert U...|\n",
            "|B006MIU7U2|Halco 80000 - MR1...|\n",
            "|B000FIBD0I|Gator GPTBLACK Pl...|\n",
            "|B0002E52GG|Hetman 1 - Light ...|\n",
            "|B00RZIH52G|Dragonpad pop fil...|\n",
            "|B001792BAU|DharmaObjects Rel...|\n",
            "|B009GSKW1Y|Musiclily SSS Pla...|\n",
            "|B0002F4TKA|Vic Firth America...|\n",
            "|B00K17YFBW|Guitar Stand for ...|\n",
            "|B00EQ24HJS|Generic 3PLY Faux...|\n",
            "|B00IBOYTUE|Audio 2000 6525 3...|\n",
            "|B00FBRUSAE|Sawtooth ST-AMP-1...|\n",
            "|B0113D2QUO|Upado Unlimited G...|\n",
            "+----------+--------------------+\n",
            "only showing top 20 rows\n",
            "\n"
          ]
        }
      ]
    },
    {
      "cell_type": "code",
      "source": [
        "customer_df = instrument_join_df.select(['customer_id','customer_count'])\n",
        "customer_df.show()"
      ],
      "metadata": {
        "colab": {
          "base_uri": "https://localhost:8080/"
        },
        "id": "ls_E6j6Xqod_",
        "outputId": "83ee4130-efc6-47ce-9017-0ac216be9f29"
      },
      "execution_count": 20,
      "outputs": [
        {
          "output_type": "stream",
          "name": "stdout",
          "text": [
            "+-----------+--------------+\n",
            "|customer_id|customer_count|\n",
            "+-----------+--------------+\n",
            "|   27314089|             1|\n",
            "|    6711334|             1|\n",
            "|   44525866|             4|\n",
            "|   44525866|             4|\n",
            "|   44525866|             4|\n",
            "|   44525866|             4|\n",
            "|   47461997|             1|\n",
            "|   42560427|             1|\n",
            "|   35225823|             1|\n",
            "|   52526865|            20|\n",
            "|   52526865|            20|\n",
            "|   52526865|            20|\n",
            "|   52526865|            20|\n",
            "|   52526865|            20|\n",
            "|   52526865|            20|\n",
            "|   52526865|            20|\n",
            "|   52526865|            20|\n",
            "|   52526865|            20|\n",
            "|   52526865|            20|\n",
            "|   52526865|            20|\n",
            "+-----------+--------------+\n",
            "only showing top 20 rows\n",
            "\n"
          ]
        }
      ]
    },
    {
      "cell_type": "code",
      "source": [
        "vine_df = instrument_join_df.select(['review_id','star_rating','helpful_votes','total_votes','vine'])\n",
        "vine_df.show()"
      ],
      "metadata": {
        "colab": {
          "base_uri": "https://localhost:8080/"
        },
        "id": "wVe_HXjGqogL",
        "outputId": "8edfa481-e160-4cba-eb61-06e7715c03a9"
      },
      "execution_count": 21,
      "outputs": [
        {
          "output_type": "stream",
          "name": "stdout",
          "text": [
            "+--------------+-----------+-------------+-----------+----+\n",
            "|     review_id|star_rating|helpful_votes|total_votes|vine|\n",
            "+--------------+-----------+-------------+-----------+----+\n",
            "| RMDCHWD0Y5OZ9|          3|            0|          1|   N|\n",
            "| RZSL0BALIYUNU|          5|            0|          0|   N|\n",
            "| RIZR67JKUDBI0|          3|            0|          1|   N|\n",
            "|R27HL570VNL85F|          5|            0|          0|   N|\n",
            "|R34EBU9QDWJ1GD|          5|            0|          0|   N|\n",
            "|R1WCUI4Z1SIQEO|          5|            0|          0|   N|\n",
            "| RL5LNO26GAVJ1|          2|            3|          4|   N|\n",
            "|R3GYQ5W8JHP8SB|          5|            0|          0|   N|\n",
            "|R30SHYQXGG5EYC|          5|            0|          0|   N|\n",
            "|R14YLXA56NP51I|          5|            1|          1|   N|\n",
            "|R1ZH0HSH38IOTZ|          5|            0|          0|   N|\n",
            "|R3H53KLLC210XI|          4|            0|          0|   N|\n",
            "|R3OOR877NGA8JK|          3|            0|          0|   N|\n",
            "|R1BY7WKOZ3KMH0|          2|            0|          0|   N|\n",
            "| RXP1TFSWE8EG9|          5|            0|          0|   N|\n",
            "|R3J44DPP12OTLJ|          5|            0|          0|   N|\n",
            "| RFOV69SK0T676|          5|            0|          0|   N|\n",
            "|R2HUWDNW62FOL3|          1|            0|          0|   N|\n",
            "|R1KSU30XZGR452|          5|            0|          0|   N|\n",
            "|R2TZVLLTSHA07N|          5|            1|          1|   N|\n",
            "+--------------+-----------+-------------+-----------+----+\n",
            "only showing top 20 rows\n",
            "\n"
          ]
        }
      ]
    },
    {
      "cell_type": "code",
      "source": [
        "## Values hidden for privacy\n",
        "\n",
        "aws_endpoint = '###'\n",
        "aws_port = '###'\n",
        "aws_db = '###'\n",
        "aws_username = '###'\n",
        "aws_password = '###'"
      ],
      "metadata": {
        "id": "--0JFUkVqoiB"
      },
      "execution_count": 22,
      "outputs": []
    },
    {
      "cell_type": "code",
      "source": [
        "jdbc_url=f'jdbc:postgresql://{aws_endpoint}:{aws_port}/{aws_db}'\n",
        "\n",
        "config = {\"user\": f'{aws_username}', \n",
        "          \"password\": f'{aws_password}', \n",
        "          \"driver\":\"org.postgresql.Driver\"}\n",
        "\n",
        "mode = 'overwrite' "
      ],
      "metadata": {
        "id": "hXIf7P8BrDzN"
      },
      "execution_count": 23,
      "outputs": []
    },
    {
      "cell_type": "code",
      "source": [
        "review_id_df .write.jdbc(url=jdbc_url, table='review_id_table', mode=mode, properties=config)"
      ],
      "metadata": {
        "id": "PC-t_A-LrF-_"
      },
      "execution_count": 24,
      "outputs": []
    },
    {
      "cell_type": "code",
      "source": [
        "products_df .write.jdbc(url=jdbc_url, table='products', mode=mode, properties=config)"
      ],
      "metadata": {
        "id": "uEaKat4jrHnl"
      },
      "execution_count": 25,
      "outputs": []
    },
    {
      "cell_type": "code",
      "source": [
        "customer_df.write.jdbc(url=jdbc_url, table='customers', mode=mode, properties=config)"
      ],
      "metadata": {
        "id": "pRcQ69CPrIFX"
      },
      "execution_count": 26,
      "outputs": []
    },
    {
      "cell_type": "code",
      "source": [
        "vine_df.write.jdbc(url=jdbc_url, table='vine_table', mode=mode, properties=config)"
      ],
      "metadata": {
        "id": "lkelLMurrJ7x"
      },
      "execution_count": 27,
      "outputs": []
    },
    {
      "cell_type": "code",
      "source": [
        "vine_count = vine_df.groupBy('vine').agg({'Vine':'count'})\n",
        "vine_count.show()"
      ],
      "metadata": {
        "colab": {
          "base_uri": "https://localhost:8080/"
        },
        "id": "TzY5YtftuPOK",
        "outputId": "1c52bd02-b8ec-4cec-984e-1f478ca4c561"
      },
      "execution_count": 49,
      "outputs": [
        {
          "output_type": "stream",
          "name": "stdout",
          "text": [
            "+----+-----------+\n",
            "|vine|count(Vine)|\n",
            "+----+-----------+\n",
            "|   Y|       2287|\n",
            "|   N|     902376|\n",
            "+----+-----------+\n",
            "\n"
          ]
        }
      ]
    },
    {
      "cell_type": "code",
      "source": [
        "vine_rating_y = vine_df.groupBy('star_rating','vine').agg({'Vine':'count'}).filter(col('vine') == 'Y').show()\n",
        "vine_rating_y['percentage'] = vine_rating_y('count(Vine)') / "
      ],
      "metadata": {
        "colab": {
          "base_uri": "https://localhost:8080/"
        },
        "id": "UzD7mooe47Iu",
        "outputId": "465aec4a-514b-4415-f7ba-1ca09309dafd"
      },
      "execution_count": 46,
      "outputs": [
        {
          "output_type": "stream",
          "name": "stdout",
          "text": [
            "+-----------+----+-----------+\n",
            "|star_rating|vine|count(Vine)|\n",
            "+-----------+----+-----------+\n",
            "|          5|   Y|       1290|\n",
            "|          3|   Y|        182|\n",
            "|          4|   Y|        749|\n",
            "|          2|   Y|         49|\n",
            "|          1|   Y|         17|\n",
            "+-----------+----+-----------+\n",
            "\n"
          ]
        }
      ]
    },
    {
      "cell_type": "code",
      "source": [
        "vine_rating_n = vine_df.groupBy('star_rating','vine').agg({'Vine':'count'}).filter(col('vine') == 'N').show()"
      ],
      "metadata": {
        "colab": {
          "base_uri": "https://localhost:8080/"
        },
        "id": "uu7W9ley6pSc",
        "outputId": "12af7e92-4957-41ac-ce9f-f19401c5fc42"
      },
      "execution_count": 47,
      "outputs": [
        {
          "output_type": "stream",
          "name": "stdout",
          "text": [
            "+-----------+----+-----------+\n",
            "|star_rating|vine|count(Vine)|\n",
            "+-----------+----+-----------+\n",
            "|          4|   N|     157767|\n",
            "|          1|   N|      66119|\n",
            "|          3|   N|      66861|\n",
            "|          5|   N|     571554|\n",
            "|          2|   N|      40075|\n",
            "+-----------+----+-----------+\n",
            "\n"
          ]
        }
      ]
    },
    {
      "cell_type": "markdown",
      "source": [
        "I do not think there is a bias present. 56% of Vine users found in these reviews opted to give 5 star reviews, while 63% of Non-Vine users opted to give 5 star reviews. Further investigation can be done to determine if the 7% difference between the two groups is significant. \n",
        "\n",
        "On the other side of the ratings, Non-Vine users opted for 1 star reviews 7% of the time. Interestingly, 7% of Vine users also opted for 1 star reviews. \n",
        "\n",
        "Overall, I do not believe being a specific user group creates bias reviews. \n",
        "\n",
        "\n",
        "Certain behavior might want to be monitored from the Vine users group to determine how they choose their products, such as how products are already trending, and the population of the user types rating that kind of item."
      ],
      "metadata": {
        "id": "5MZdvwgJ82OA"
      }
    },
    {
      "cell_type": "code",
      "source": [],
      "metadata": {
        "id": "7-WwBjgMAz7z"
      },
      "execution_count": null,
      "outputs": []
    }
  ]
}