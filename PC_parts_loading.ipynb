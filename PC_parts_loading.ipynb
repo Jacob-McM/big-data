{
  "nbformat": 4,
  "nbformat_minor": 0,
  "metadata": {
    "colab": {
      "provenance": [],
      "authorship_tag": "ABX9TyNLgkufhvLXKUXioKBQEVTQ",
      "include_colab_link": true
    },
    "kernelspec": {
      "name": "python3",
      "display_name": "Python 3"
    },
    "language_info": {
      "name": "python"
    }
  },
  "cells": [
    {
      "cell_type": "markdown",
      "metadata": {
        "id": "view-in-github",
        "colab_type": "text"
      },
      "source": [
        "<a href=\"https://colab.research.google.com/github/Jacob-McM/big-data/blob/main/PC_parts_loading.ipynb\" target=\"_parent\"><img src=\"https://colab.research.google.com/assets/colab-badge.svg\" alt=\"Open In Colab\"/></a>"
      ]
    },
    {
      "cell_type": "code",
      "execution_count": 2,
      "metadata": {
        "colab": {
          "base_uri": "https://localhost:8080/"
        },
        "id": "9hD13V9HLiJ6",
        "outputId": "cdc538b5-1181-48e6-9f77-34b57a482bae"
      },
      "outputs": [
        {
          "output_type": "stream",
          "name": "stdout",
          "text": [
            "\r0% [Working]\r            \rHit:1 http://archive.ubuntu.com/ubuntu bionic InRelease\n",
            "\r0% [Waiting for headers] [Connecting to security.ubuntu.com (185.125.190.39)] [\r                                                                               \rGet:2 http://archive.ubuntu.com/ubuntu bionic-updates InRelease [88.7 kB]\n",
            "\r0% [2 InRelease 14.2 kB/88.7 kB 16%] [Connecting to security.ubuntu.com (185.12\r0% [1 InRelease gpgv 242 kB] [2 InRelease 15.6 kB/88.7 kB 18%] [Waiting for hea\r                                                                               \rGet:3 https://cloud.r-project.org/bin/linux/ubuntu bionic-cran40/ InRelease [3,626 B]\n",
            "\r0% [1 InRelease gpgv 242 kB] [2 InRelease 21.4 kB/88.7 kB 24%] [Waiting for hea\r0% [1 InRelease gpgv 242 kB] [2 InRelease 24.3 kB/88.7 kB 27%] [Waiting for hea\r0% [1 InRelease gpgv 242 kB] [Waiting for headers] [Waiting for headers] [Waiti\r                                                                               \rIgn:4 https://developer.download.nvidia.com/compute/machine-learning/repos/ubuntu1804/x86_64  InRelease\n",
            "\r0% [1 InRelease gpgv 242 kB] [Waiting for headers] [Waiting for headers] [Waiti\r                                                                               \rGet:5 http://security.ubuntu.com/ubuntu bionic-security InRelease [88.7 kB]\n",
            "\r                                                                               \rHit:6 http://ppa.launchpad.net/c2d4u.team/c2d4u4.0+/ubuntu bionic InRelease\n",
            "\r0% [1 InRelease gpgv 242 kB] [Waiting for headers] [5 InRelease 14.2 kB/88.7 kB\r                                                                               \rGet:7 https://developer.download.nvidia.com/compute/cuda/repos/ubuntu1804/x86_64  InRelease [1,581 B]\n",
            "\r0% [1 InRelease gpgv 242 kB] [Waiting for headers] [5 InRelease 14.2 kB/88.7 kB\r                                                                               \rGet:8 http://archive.ubuntu.com/ubuntu bionic-backports InRelease [83.3 kB]\n",
            "Hit:9 https://developer.download.nvidia.com/compute/machine-learning/repos/ubuntu1804/x86_64  Release\n",
            "Hit:10 http://ppa.launchpad.net/cran/libgit2/ubuntu bionic InRelease\n",
            "Hit:11 http://ppa.launchpad.net/deadsnakes/ppa/ubuntu bionic InRelease\n",
            "Get:12 http://ppa.launchpad.net/graphics-drivers/ppa/ubuntu bionic InRelease [21.3 kB]\n",
            "Get:13 http://archive.ubuntu.com/ubuntu bionic-updates/universe amd64 Packages [2,338 kB]\n",
            "Get:14 http://archive.ubuntu.com/ubuntu bionic-updates/main amd64 Packages [3,497 kB]\n",
            "Get:15 http://archive.ubuntu.com/ubuntu bionic-updates/restricted amd64 Packages [1,303 kB]\n",
            "Get:16 https://developer.download.nvidia.com/compute/cuda/repos/ubuntu1804/x86_64  Packages [1,038 kB]\n",
            "Get:18 http://security.ubuntu.com/ubuntu bionic-security/universe amd64 Packages [1,563 kB]\n",
            "Get:19 http://security.ubuntu.com/ubuntu bionic-security/restricted amd64 Packages [1,262 kB]\n",
            "Get:20 http://security.ubuntu.com/ubuntu bionic-security/main amd64 Packages [3,071 kB]\n",
            "Get:21 http://ppa.launchpad.net/graphics-drivers/ppa/ubuntu bionic/main amd64 Packages [38.5 kB]\n",
            "Fetched 14.4 MB in 4s (3,730 kB/s)\n",
            "Reading package lists... Done\n"
          ]
        }
      ],
      "source": [
        "import os\n",
        "# Find the latest version of spark 3.2  from http://www.apache.org/dist/spark/ and enter as the spark version\n",
        "# For example:\n",
        "# spark_version = 'spark-3.2.2'\n",
        "spark_version = 'spark-3.2.3'\n",
        "os.environ['SPARK_VERSION']=spark_version\n",
        "\n",
        "# Install Spark and Java\n",
        "!apt-get update\n",
        "!apt-get install openjdk-11-jdk-headless -qq > /dev/null\n",
        "!wget -q http://www.apache.org/dist/spark/$SPARK_VERSION/$SPARK_VERSION-bin-hadoop2.7.tgz\n",
        "!tar xf $SPARK_VERSION-bin-hadoop2.7.tgz\n",
        "!pip install -q findspark\n",
        "\n",
        "# Set Environment Variables\n",
        "import os\n",
        "os.environ[\"JAVA_HOME\"] = \"/usr/lib/jvm/java-11-openjdk-amd64\"\n",
        "os.environ[\"SPARK_HOME\"] = f\"/content/{spark_version}-bin-hadoop2.7\"\n",
        "\n",
        "# Start a SparkSession\n",
        "import findspark\n",
        "findspark.init()"
      ]
    },
    {
      "cell_type": "code",
      "source": [
        "!wget https://jdbc.postgresql.org/download/postgresql-42.2.9.jar"
      ],
      "metadata": {
        "colab": {
          "base_uri": "https://localhost:8080/"
        },
        "id": "NTL0hVyrL2in",
        "outputId": "345d2948-e042-4127-97df-f45b23b9bfcb"
      },
      "execution_count": 3,
      "outputs": [
        {
          "output_type": "stream",
          "name": "stdout",
          "text": [
            "--2022-11-30 00:31:25--  https://jdbc.postgresql.org/download/postgresql-42.2.9.jar\n",
            "Resolving jdbc.postgresql.org (jdbc.postgresql.org)... 72.32.157.228, 2001:4800:3e1:1::228\n",
            "Connecting to jdbc.postgresql.org (jdbc.postgresql.org)|72.32.157.228|:443... connected.\n",
            "HTTP request sent, awaiting response... 200 OK\n",
            "Length: 914037 (893K) [application/java-archive]\n",
            "Saving to: ‘postgresql-42.2.9.jar’\n",
            "\n",
            "postgresql-42.2.9.j 100%[===================>] 892.61K  5.68MB/s    in 0.2s    \n",
            "\n",
            "2022-11-30 00:31:26 (5.68 MB/s) - ‘postgresql-42.2.9.jar’ saved [914037/914037]\n",
            "\n"
          ]
        }
      ]
    },
    {
      "cell_type": "code",
      "source": [
        "from pyspark.sql import SparkSession\n",
        "\n",
        "spark = SparkSession.builder.appName(\"CloudETL\").config(\"spark.driver.extraClassPath\",\"/content/postgresql-42.2.9.jar\").getOrCreate()"
      ],
      "metadata": {
        "id": "uva3s0IyL2_-"
      },
      "execution_count": 4,
      "outputs": []
    },
    {
      "cell_type": "code",
      "source": [
        "from pyspark import SparkFiles\n",
        "\n",
        "url = \"https://s3.amazonaws.com/amazon-reviews-pds/tsv/amazon_reviews_us_PC_v1_00.tsv.gz\"\n",
        "spark.sparkContext.addFile(url)\n",
        "PC_reviews_df = spark.read.csv(SparkFiles.get(\"amazon_reviews_us_PC_v1_00.tsv.gz\"), sep=\"\\t\", header=True, inferSchema=True)\n",
        "\n",
        "PC_reviews_df.show()"
      ],
      "metadata": {
        "colab": {
          "base_uri": "https://localhost:8080/"
        },
        "id": "Y60V9gGXL6v1",
        "outputId": "e7e904df-6c60-49bb-e80a-c5add2b7ea8a"
      },
      "execution_count": 5,
      "outputs": [
        {
          "output_type": "stream",
          "name": "stdout",
          "text": [
            "+-----------+-----------+--------------+----------+--------------+--------------------+----------------+-----------+-------------+-----------+----+-----------------+--------------------+--------------------+-----------+\n",
            "|marketplace|customer_id|     review_id|product_id|product_parent|       product_title|product_category|star_rating|helpful_votes|total_votes|vine|verified_purchase|     review_headline|         review_body|review_date|\n",
            "+-----------+-----------+--------------+----------+--------------+--------------------+----------------+-----------+-------------+-----------+----+-----------------+--------------------+--------------------+-----------+\n",
            "|         US|   22873041|R3ARRMDEGED8RD|B00KJWQIIC|     335625766|Plemo 14-Inch Lap...|              PC|          5|            0|          0|   N|                Y|Pleasantly surprised|I was very surpri...| 2015-08-31|\n",
            "|         US|   30088427| RQ28TSA020Y6J|B013ALA9LA|     671157305|TP-Link OnHub AC1...|              PC|          5|           24|         31|   N|                N|OnHub is a pretty...|I am a Google emp...| 2015-08-31|\n",
            "|         US|   20329786| RUXJRZCT6953M|B00PML2GQ8|     982036237|AmazonBasics USB ...|              PC|          1|            2|          2|   N|                N|None of them work...|Bought cables in ...| 2015-08-31|\n",
            "|         US|   14215710| R7EO0UO6BPB71|B001NS0OZ4|     576587596|Transcend P8 15-i...|              PC|          1|            0|          0|   N|                Y|just keep searching.|nope, cheap and slow| 2015-08-31|\n",
            "|         US|   38264512|R39NJY2YJ1JFSV|B00AQMTND2|     964759214|Aleratec SATA Dat...|              PC|          5|            0|          0|   N|                Y|          Five Stars|Excellent! Great ...| 2015-08-31|\n",
            "|         US|   30548466|R31SR7REWNX7CF|B00KX4TORI|     170101802|Kingston Digital ...|              PC|          5|            0|          0|   N|                Y|Good quality, wor...|Good quality,work...| 2015-08-31|\n",
            "|         US|     589298| RVBP8I1R0CTZ8|B00P17WEMY|     206124740|White 9 Inch Unlo...|              PC|          3|            1|          2|   N|                Y|in fact this is t...|This demn tablet ...| 2015-08-31|\n",
            "|         US|   49329488|R1QF6RS1PDLU18|B00TR05L9Y|     778403103|Lenovo TAB2 A10 -...|              PC|          4|            1|          1|   N|                Y|                Good|I am not sure I d...| 2015-08-31|\n",
            "|         US|   50728290|R23AICGEDAJQL1|B0098Y77OG|     177098042|                Acer|              PC|          1|            0|          0|   N|                Y|You get what you ...|After exactly 45 ...| 2015-08-31|\n",
            "|         US|   37802374|R2EY3N4K9W19UP|B00IFYEYXC|     602496520|AzureWave Broadco...|              PC|          5|            3|          4|   N|                Y|Great for Windows...|Replaced my Intel...| 2015-08-31|\n",
            "|         US|   52027882| RC9AW4HKJ016M|B0091ITP0S|     977217357|HDE Rotating iPad...|              PC|          1|            0|          0|   N|                Y|            One Star|IT HAS ALREADY CR...| 2015-08-31|\n",
            "|         US|   41770239|R2ALWJE9N6ZBXD|B008I21EA2|     295632907|Linksys AC1750 Wi...|              PC|          1|            0|          0|   N|                N|   Very Disappointed|Very disappointed...| 2015-08-31|\n",
            "|         US|   42560427|R2G5FPA4OX37GV|B00MRB7SBO|     922591915|iPad Pro 9.7, iPa...|              PC|          5|            1|          1|   N|                Y|          Five Stars|Works well. I use...| 2015-08-31|\n",
            "|         US|   46345923|R1IKTSEVXSIMOD|B00LLER2CS|     997551273|SanDisk 16GB CZ43...|              PC|          5|            0|          0|   N|                Y|The encryption so...|The encryption so...| 2015-08-31|\n",
            "|         US|   41751192|R2YA6G6SRFEWF6|B00B0CQCCC|     937999925|TRENDnet Wireless...|              PC|          1|            0|          1|   N|                Y|Didn't last 2 years.|I have owned this...| 2015-08-31|\n",
            "|         US|   21176481| RS9H1N9I3Z1IA|B00GU8W5AE|      13865167|Redragon M901 PER...|              PC|          5|            0|          0|   N|                Y|Awesome gaming mouse|My first gaming m...| 2015-08-31|\n",
            "|         US|   10674058| RKKLBI76VTDNT|B00XHMXJQ0|     967483469|Mudder MHL Adapte...|              PC|          1|            0|          0|   N|                Y|            One Star|I cannot get it t...| 2015-08-31|\n",
            "|         US|   43341796|R2NJ3WFUS4E5G6|B00YGJJQ6U|     986548413|Fintie iPad Air 2...|              PC|          4|            0|          0|   N|                Y|Great choices of ...|Love that Finite ...| 2015-08-31|\n",
            "|         US|   13232866|R21PTQNLGCBN0I|B00XMN20Y6|     873354048|Fintie iPad 2/3/4...|              PC|          5|            0|          0|   N|                Y|          Five Stars|Nice color, I lov...| 2015-08-31|\n",
            "|         US|   29333557|R3G4RT3EQ9RSY7|B00MA40W9I|     535866197|Egoway® New Lapto...|              PC|          1|            0|          0|   N|                Y|Totally wasted $6...|Totally wasted $6...| 2015-08-31|\n",
            "+-----------+-----------+--------------+----------+--------------+--------------------+----------------+-----------+-------------+-----------+----+-----------------+--------------------+--------------------+-----------+\n",
            "only showing top 20 rows\n",
            "\n"
          ]
        }
      ]
    },
    {
      "cell_type": "code",
      "source": [
        "## Record count\n",
        "PC_reviews_df.count()"
      ],
      "metadata": {
        "colab": {
          "base_uri": "https://localhost:8080/"
        },
        "id": "B8Ncy3JwPIAJ",
        "outputId": "37b5c040-a666-418a-c724-0956b75aa76a"
      },
      "execution_count": 6,
      "outputs": [
        {
          "output_type": "execute_result",
          "data": {
            "text/plain": [
              "6908554"
            ]
          },
          "metadata": {},
          "execution_count": 6
        }
      ]
    },
    {
      "cell_type": "code",
      "source": [
        "# Drop null values\n",
        "PC_na_df = PC_reviews_df.dropna(how='any')\n",
        "PC_na_df.show()"
      ],
      "metadata": {
        "id": "suI2TVgRQb1X",
        "colab": {
          "base_uri": "https://localhost:8080/"
        },
        "outputId": "293aa4d9-a546-439b-8d9a-fa8de37017ef"
      },
      "execution_count": 7,
      "outputs": [
        {
          "output_type": "stream",
          "name": "stdout",
          "text": [
            "+-----------+-----------+--------------+----------+--------------+--------------------+----------------+-----------+-------------+-----------+----+-----------------+--------------------+--------------------+-----------+\n",
            "|marketplace|customer_id|     review_id|product_id|product_parent|       product_title|product_category|star_rating|helpful_votes|total_votes|vine|verified_purchase|     review_headline|         review_body|review_date|\n",
            "+-----------+-----------+--------------+----------+--------------+--------------------+----------------+-----------+-------------+-----------+----+-----------------+--------------------+--------------------+-----------+\n",
            "|         US|   22873041|R3ARRMDEGED8RD|B00KJWQIIC|     335625766|Plemo 14-Inch Lap...|              PC|          5|            0|          0|   N|                Y|Pleasantly surprised|I was very surpri...| 2015-08-31|\n",
            "|         US|   30088427| RQ28TSA020Y6J|B013ALA9LA|     671157305|TP-Link OnHub AC1...|              PC|          5|           24|         31|   N|                N|OnHub is a pretty...|I am a Google emp...| 2015-08-31|\n",
            "|         US|   20329786| RUXJRZCT6953M|B00PML2GQ8|     982036237|AmazonBasics USB ...|              PC|          1|            2|          2|   N|                N|None of them work...|Bought cables in ...| 2015-08-31|\n",
            "|         US|   14215710| R7EO0UO6BPB71|B001NS0OZ4|     576587596|Transcend P8 15-i...|              PC|          1|            0|          0|   N|                Y|just keep searching.|nope, cheap and slow| 2015-08-31|\n",
            "|         US|   38264512|R39NJY2YJ1JFSV|B00AQMTND2|     964759214|Aleratec SATA Dat...|              PC|          5|            0|          0|   N|                Y|          Five Stars|Excellent! Great ...| 2015-08-31|\n",
            "|         US|   30548466|R31SR7REWNX7CF|B00KX4TORI|     170101802|Kingston Digital ...|              PC|          5|            0|          0|   N|                Y|Good quality, wor...|Good quality,work...| 2015-08-31|\n",
            "|         US|     589298| RVBP8I1R0CTZ8|B00P17WEMY|     206124740|White 9 Inch Unlo...|              PC|          3|            1|          2|   N|                Y|in fact this is t...|This demn tablet ...| 2015-08-31|\n",
            "|         US|   49329488|R1QF6RS1PDLU18|B00TR05L9Y|     778403103|Lenovo TAB2 A10 -...|              PC|          4|            1|          1|   N|                Y|                Good|I am not sure I d...| 2015-08-31|\n",
            "|         US|   50728290|R23AICGEDAJQL1|B0098Y77OG|     177098042|                Acer|              PC|          1|            0|          0|   N|                Y|You get what you ...|After exactly 45 ...| 2015-08-31|\n",
            "|         US|   37802374|R2EY3N4K9W19UP|B00IFYEYXC|     602496520|AzureWave Broadco...|              PC|          5|            3|          4|   N|                Y|Great for Windows...|Replaced my Intel...| 2015-08-31|\n",
            "|         US|   52027882| RC9AW4HKJ016M|B0091ITP0S|     977217357|HDE Rotating iPad...|              PC|          1|            0|          0|   N|                Y|            One Star|IT HAS ALREADY CR...| 2015-08-31|\n",
            "|         US|   41770239|R2ALWJE9N6ZBXD|B008I21EA2|     295632907|Linksys AC1750 Wi...|              PC|          1|            0|          0|   N|                N|   Very Disappointed|Very disappointed...| 2015-08-31|\n",
            "|         US|   42560427|R2G5FPA4OX37GV|B00MRB7SBO|     922591915|iPad Pro 9.7, iPa...|              PC|          5|            1|          1|   N|                Y|          Five Stars|Works well. I use...| 2015-08-31|\n",
            "|         US|   46345923|R1IKTSEVXSIMOD|B00LLER2CS|     997551273|SanDisk 16GB CZ43...|              PC|          5|            0|          0|   N|                Y|The encryption so...|The encryption so...| 2015-08-31|\n",
            "|         US|   41751192|R2YA6G6SRFEWF6|B00B0CQCCC|     937999925|TRENDnet Wireless...|              PC|          1|            0|          1|   N|                Y|Didn't last 2 years.|I have owned this...| 2015-08-31|\n",
            "|         US|   21176481| RS9H1N9I3Z1IA|B00GU8W5AE|      13865167|Redragon M901 PER...|              PC|          5|            0|          0|   N|                Y|Awesome gaming mouse|My first gaming m...| 2015-08-31|\n",
            "|         US|   10674058| RKKLBI76VTDNT|B00XHMXJQ0|     967483469|Mudder MHL Adapte...|              PC|          1|            0|          0|   N|                Y|            One Star|I cannot get it t...| 2015-08-31|\n",
            "|         US|   43341796|R2NJ3WFUS4E5G6|B00YGJJQ6U|     986548413|Fintie iPad Air 2...|              PC|          4|            0|          0|   N|                Y|Great choices of ...|Love that Finite ...| 2015-08-31|\n",
            "|         US|   13232866|R21PTQNLGCBN0I|B00XMN20Y6|     873354048|Fintie iPad 2/3/4...|              PC|          5|            0|          0|   N|                Y|          Five Stars|Nice color, I lov...| 2015-08-31|\n",
            "|         US|   29333557|R3G4RT3EQ9RSY7|B00MA40W9I|     535866197|Egoway® New Lapto...|              PC|          1|            0|          0|   N|                Y|Totally wasted $6...|Totally wasted $6...| 2015-08-31|\n",
            "+-----------+-----------+--------------+----------+--------------+--------------------+----------------+-----------+-------------+-----------+----+-----------------+--------------------+--------------------+-----------+\n",
            "only showing top 20 rows\n",
            "\n"
          ]
        }
      ]
    },
    {
      "cell_type": "code",
      "source": [
        "PC_na_df.dtypes"
      ],
      "metadata": {
        "colab": {
          "base_uri": "https://localhost:8080/"
        },
        "id": "wmVCB2vmh0aa",
        "outputId": "25d35207-24df-408d-dc3e-14542ac0840e"
      },
      "execution_count": 8,
      "outputs": [
        {
          "output_type": "execute_result",
          "data": {
            "text/plain": [
              "[('marketplace', 'string'),\n",
              " ('customer_id', 'int'),\n",
              " ('review_id', 'string'),\n",
              " ('product_id', 'string'),\n",
              " ('product_parent', 'int'),\n",
              " ('product_title', 'string'),\n",
              " ('product_category', 'string'),\n",
              " ('star_rating', 'int'),\n",
              " ('helpful_votes', 'int'),\n",
              " ('total_votes', 'int'),\n",
              " ('vine', 'string'),\n",
              " ('verified_purchase', 'string'),\n",
              " ('review_headline', 'string'),\n",
              " ('review_body', 'string'),\n",
              " ('review_date', 'string')]"
            ]
          },
          "metadata": {},
          "execution_count": 8
        }
      ]
    },
    {
      "cell_type": "markdown",
      "source": [
        "KEEP:\n",
        "\n",
        "|review_id|customer_id|product_id|product_parent|review_date|product_title|customer_count|star_rating |helpful_votes|total_votes|vine|\n",
        "|---|---|---|---|---|---|---|---|---|---|---|\n",
        "\n",
        "\n",
        "DROP:\n",
        "\n",
        "|marketplace|product_category|verified_purchace|review_headline|review_body|\n",
        "|-|-|-|-|-|\n",
        "\n",
        "\n",
        "\n",
        "\n",
        "\n",
        "\n",
        "\n",
        "\n",
        "\n",
        "\n",
        "\n",
        "\n",
        "\n"
      ],
      "metadata": {
        "id": "YBMWZo7lk8tD"
      }
    },
    {
      "cell_type": "code",
      "source": [
        "database_df = PC_na_df.drop('marketplace','product_category','verified_purchase','review_headline','review_body')\n",
        "database_df.show()"
      ],
      "metadata": {
        "colab": {
          "base_uri": "https://localhost:8080/"
        },
        "id": "MqGn8Jz0l7ZF",
        "outputId": "246b3630-c6c5-470c-e667-a0ee2d5ccf05"
      },
      "execution_count": 9,
      "outputs": [
        {
          "output_type": "stream",
          "name": "stdout",
          "text": [
            "+-----------+--------------+----------+--------------+--------------------+-----------+-------------+-----------+----+-----------+\n",
            "|customer_id|     review_id|product_id|product_parent|       product_title|star_rating|helpful_votes|total_votes|vine|review_date|\n",
            "+-----------+--------------+----------+--------------+--------------------+-----------+-------------+-----------+----+-----------+\n",
            "|   22873041|R3ARRMDEGED8RD|B00KJWQIIC|     335625766|Plemo 14-Inch Lap...|          5|            0|          0|   N| 2015-08-31|\n",
            "|   30088427| RQ28TSA020Y6J|B013ALA9LA|     671157305|TP-Link OnHub AC1...|          5|           24|         31|   N| 2015-08-31|\n",
            "|   20329786| RUXJRZCT6953M|B00PML2GQ8|     982036237|AmazonBasics USB ...|          1|            2|          2|   N| 2015-08-31|\n",
            "|   14215710| R7EO0UO6BPB71|B001NS0OZ4|     576587596|Transcend P8 15-i...|          1|            0|          0|   N| 2015-08-31|\n",
            "|   38264512|R39NJY2YJ1JFSV|B00AQMTND2|     964759214|Aleratec SATA Dat...|          5|            0|          0|   N| 2015-08-31|\n",
            "|   30548466|R31SR7REWNX7CF|B00KX4TORI|     170101802|Kingston Digital ...|          5|            0|          0|   N| 2015-08-31|\n",
            "|     589298| RVBP8I1R0CTZ8|B00P17WEMY|     206124740|White 9 Inch Unlo...|          3|            1|          2|   N| 2015-08-31|\n",
            "|   49329488|R1QF6RS1PDLU18|B00TR05L9Y|     778403103|Lenovo TAB2 A10 -...|          4|            1|          1|   N| 2015-08-31|\n",
            "|   50728290|R23AICGEDAJQL1|B0098Y77OG|     177098042|                Acer|          1|            0|          0|   N| 2015-08-31|\n",
            "|   37802374|R2EY3N4K9W19UP|B00IFYEYXC|     602496520|AzureWave Broadco...|          5|            3|          4|   N| 2015-08-31|\n",
            "|   52027882| RC9AW4HKJ016M|B0091ITP0S|     977217357|HDE Rotating iPad...|          1|            0|          0|   N| 2015-08-31|\n",
            "|   41770239|R2ALWJE9N6ZBXD|B008I21EA2|     295632907|Linksys AC1750 Wi...|          1|            0|          0|   N| 2015-08-31|\n",
            "|   42560427|R2G5FPA4OX37GV|B00MRB7SBO|     922591915|iPad Pro 9.7, iPa...|          5|            1|          1|   N| 2015-08-31|\n",
            "|   46345923|R1IKTSEVXSIMOD|B00LLER2CS|     997551273|SanDisk 16GB CZ43...|          5|            0|          0|   N| 2015-08-31|\n",
            "|   41751192|R2YA6G6SRFEWF6|B00B0CQCCC|     937999925|TRENDnet Wireless...|          1|            0|          1|   N| 2015-08-31|\n",
            "|   21176481| RS9H1N9I3Z1IA|B00GU8W5AE|      13865167|Redragon M901 PER...|          5|            0|          0|   N| 2015-08-31|\n",
            "|   10674058| RKKLBI76VTDNT|B00XHMXJQ0|     967483469|Mudder MHL Adapte...|          1|            0|          0|   N| 2015-08-31|\n",
            "|   43341796|R2NJ3WFUS4E5G6|B00YGJJQ6U|     986548413|Fintie iPad Air 2...|          4|            0|          0|   N| 2015-08-31|\n",
            "|   13232866|R21PTQNLGCBN0I|B00XMN20Y6|     873354048|Fintie iPad 2/3/4...|          5|            0|          0|   N| 2015-08-31|\n",
            "|   29333557|R3G4RT3EQ9RSY7|B00MA40W9I|     535866197|Egoway® New Lapto...|          1|            0|          0|   N| 2015-08-31|\n",
            "+-----------+--------------+----------+--------------+--------------------+-----------+-------------+-----------+----+-----------+\n",
            "only showing top 20 rows\n",
            "\n"
          ]
        }
      ]
    },
    {
      "cell_type": "code",
      "source": [
        "database_count = database_df.groupby(\"customer_id\").agg({\"customer_id\":\"count\"})\n",
        "database_count.show()"
      ],
      "metadata": {
        "colab": {
          "base_uri": "https://localhost:8080/"
        },
        "id": "sQwmyCnJpqk2",
        "outputId": "d622617a-3621-42d1-9f09-59c4cc9c925c"
      },
      "execution_count": 10,
      "outputs": [
        {
          "output_type": "stream",
          "name": "stdout",
          "text": [
            "+-----------+------------------+\n",
            "|customer_id|count(customer_id)|\n",
            "+-----------+------------------+\n",
            "|   42560427|                11|\n",
            "|   14991350|                 6|\n",
            "|    9002099|                 1|\n",
            "|   35535911|                 3|\n",
            "|    1117644|                 1|\n",
            "|   46909180|                 2|\n",
            "|   48670265|                 2|\n",
            "|   43626894|                 2|\n",
            "|   17083191|                 1|\n",
            "|   20808998|                 1|\n",
            "|   36728141|                 8|\n",
            "|   16306618|                 3|\n",
            "|   13910751|                 1|\n",
            "|   27377384|                 1|\n",
            "|   19005540|                 1|\n",
            "|   51804200|                 1|\n",
            "|   47108763|                 6|\n",
            "|   51451778|                 2|\n",
            "|   44998024|                 2|\n",
            "|   32753385|                 1|\n",
            "+-----------+------------------+\n",
            "only showing top 20 rows\n",
            "\n"
          ]
        }
      ]
    },
    {
      "cell_type": "code",
      "source": [
        "count_join_df = database_df.join(database_count, on=\"customer_id\", how='inner')\n",
        "count_join_df.show()"
      ],
      "metadata": {
        "colab": {
          "base_uri": "https://localhost:8080/"
        },
        "id": "Xwg5yk00rdyZ",
        "outputId": "b326d269-b6fc-439d-e0b2-c245658d2913"
      },
      "execution_count": 11,
      "outputs": [
        {
          "output_type": "stream",
          "name": "stdout",
          "text": [
            "+-----------+--------------+----------+--------------+--------------------+-----------+-------------+-----------+----+-----------+------------------+\n",
            "|customer_id|     review_id|product_id|product_parent|       product_title|star_rating|helpful_votes|total_votes|vine|review_date|count(customer_id)|\n",
            "+-----------+--------------+----------+--------------+--------------------+-----------+-------------+-----------+----+-----------+------------------+\n",
            "|      10090|R34CAR0SJ03YEM|B003L5D0OE|     521418880|Mini SATA Cable w...|          2|            0|          0|   N| 2014-03-24|                 1|\n",
            "|      10168|R3VDP2WDUNGL6U|B004GYQR12|     648613926|Premium Bluetooth...|          3|            0|          0|   N| 2014-01-23|                 2|\n",
            "|      10168|R24OEGBGJ3KTBW|B00B7KQ4K2|     124918725|64GB Class 10 Mic...|          1|           66|         66|   N| 2013-03-28|                 2|\n",
            "|      10206|R28AFZSJ1JBII9|B00BHNNQBY|     603357256|Poetic Slimbook L...|          5|            0|          0|   N| 2014-03-25|                 4|\n",
            "|      10206|R3622VXACD25BM|B00AMVD9SC|     666314203|Insten Universal ...|          5|            0|          0|   N| 2014-03-25|                 4|\n",
            "|      10206|R3BIMY6X5F9YM4|B00DUGJQEW|     823330197|Samsung Galaxy Ta...|          4|            0|          0|   N| 2014-03-12|                 4|\n",
            "|      10206| R3QLK4D0YMAJ4|B002WE4HE2|     589324478|Transcend 8 GB Cl...|          2|            0|          1|   N| 2014-03-12|                 4|\n",
            "|      10395|R1LU5I1MILN25U|B008X6C4I4|     373080837|HDE Mini DisplayP...|          5|            0|          0|   N| 2013-05-19|                 1|\n",
            "|      10468|R1AHW1F8L5PFFM|B004EGEMMI|     742585752|          SATA Cable|          5|            0|          0|   N| 2015-07-21|                11|\n",
            "|      10468|R2R7AS0YTVD6SE|B003M75D7I|     662730501|Molex 4 Pin to 2 ...|          5|            1|          1|   N| 2015-07-21|                11|\n",
            "|      10468|R3AWZHJJU847K5|B0033Z2BAQ|     648698529|Asus 24x DVD-RW S...|          1|            1|          2|   N| 2015-07-21|                11|\n",
            "|      10468| RA31VN2URZDG6|B003IYS8SQ|     103532829|Tenext Cat5 Netwo...|          5|            1|          2|   N| 2015-07-21|                11|\n",
            "|      10468|R1BIRA01IRBNS0|B004S7WTJQ|     232160191|Laptone 150Mbps H...|          5|            0|          0|   N| 2015-07-21|                11|\n",
            "|      10468|R39LW2FRVEJVWJ|B00N02BAV8|      16070135|LG GH24NSC0B DVD ...|          5|            0|          0|   N| 2015-07-04|                11|\n",
            "|      10468|R1PHRI0PFY1DX7|B00BTQJ7SA|     362309250|Rii I8 Mini 2.4Gh...|          5|            0|          0|   N| 2015-06-01|                11|\n",
            "|      10468| RLB6FN2X6QUOC|B0031WNEHU|     544023666|14.80V,2600mAh,Li...|          5|            0|          0|   N| 2015-06-01|                11|\n",
            "|      10468|R2BRO21WIEDFAU|B0027CEMW6|     841455187|USB external CD-R...|          5|            0|          0|   N| 2015-06-01|                11|\n",
            "|      10468|R2LJQ5DC2678EG|B00333AWTA|       5504788|WiFi Wireless IEE...|          5|            1|          1|   N| 2015-06-01|                11|\n",
            "|      10468|R11JO78XO317AG|B009QBIZ60|     416047970|Samsung Portable ...|          5|            0|          0|   N| 2015-06-01|                11|\n",
            "|      10567| R1444RZZT5WPQ|B004L8XEGY|     828888682|20G HDD Hard Disk...|          5|            0|          0|   N| 2012-11-19|                 1|\n",
            "+-----------+--------------+----------+--------------+--------------------+-----------+-------------+-----------+----+-----------+------------------+\n",
            "only showing top 20 rows\n",
            "\n"
          ]
        }
      ]
    },
    {
      "cell_type": "code",
      "source": [
        "database_count_df = count_join_df.withColumnRenamed(\"count(customer_id)\",\"customer_count\")\n",
        "database_count_df.show()"
      ],
      "metadata": {
        "colab": {
          "base_uri": "https://localhost:8080/"
        },
        "id": "fyqqeivBsedC",
        "outputId": "efca11e9-f639-4f1a-f1b1-d637a9c30bc4"
      },
      "execution_count": 12,
      "outputs": [
        {
          "output_type": "stream",
          "name": "stdout",
          "text": [
            "+-----------+--------------+----------+--------------+--------------------+-----------+-------------+-----------+----+-----------+--------------+\n",
            "|customer_id|     review_id|product_id|product_parent|       product_title|star_rating|helpful_votes|total_votes|vine|review_date|customer_count|\n",
            "+-----------+--------------+----------+--------------+--------------------+-----------+-------------+-----------+----+-----------+--------------+\n",
            "|      10090|R34CAR0SJ03YEM|B003L5D0OE|     521418880|Mini SATA Cable w...|          2|            0|          0|   N| 2014-03-24|             1|\n",
            "|      10168|R3VDP2WDUNGL6U|B004GYQR12|     648613926|Premium Bluetooth...|          3|            0|          0|   N| 2014-01-23|             2|\n",
            "|      10168|R24OEGBGJ3KTBW|B00B7KQ4K2|     124918725|64GB Class 10 Mic...|          1|           66|         66|   N| 2013-03-28|             2|\n",
            "|      10206|R28AFZSJ1JBII9|B00BHNNQBY|     603357256|Poetic Slimbook L...|          5|            0|          0|   N| 2014-03-25|             4|\n",
            "|      10206|R3622VXACD25BM|B00AMVD9SC|     666314203|Insten Universal ...|          5|            0|          0|   N| 2014-03-25|             4|\n",
            "|      10206|R3BIMY6X5F9YM4|B00DUGJQEW|     823330197|Samsung Galaxy Ta...|          4|            0|          0|   N| 2014-03-12|             4|\n",
            "|      10206| R3QLK4D0YMAJ4|B002WE4HE2|     589324478|Transcend 8 GB Cl...|          2|            0|          1|   N| 2014-03-12|             4|\n",
            "|      10395|R1LU5I1MILN25U|B008X6C4I4|     373080837|HDE Mini DisplayP...|          5|            0|          0|   N| 2013-05-19|             1|\n",
            "|      10468|R1AHW1F8L5PFFM|B004EGEMMI|     742585752|          SATA Cable|          5|            0|          0|   N| 2015-07-21|            11|\n",
            "|      10468|R2R7AS0YTVD6SE|B003M75D7I|     662730501|Molex 4 Pin to 2 ...|          5|            1|          1|   N| 2015-07-21|            11|\n",
            "|      10468|R3AWZHJJU847K5|B0033Z2BAQ|     648698529|Asus 24x DVD-RW S...|          1|            1|          2|   N| 2015-07-21|            11|\n",
            "|      10468| RA31VN2URZDG6|B003IYS8SQ|     103532829|Tenext Cat5 Netwo...|          5|            1|          2|   N| 2015-07-21|            11|\n",
            "|      10468|R1BIRA01IRBNS0|B004S7WTJQ|     232160191|Laptone 150Mbps H...|          5|            0|          0|   N| 2015-07-21|            11|\n",
            "|      10468|R39LW2FRVEJVWJ|B00N02BAV8|      16070135|LG GH24NSC0B DVD ...|          5|            0|          0|   N| 2015-07-04|            11|\n",
            "|      10468|R1PHRI0PFY1DX7|B00BTQJ7SA|     362309250|Rii I8 Mini 2.4Gh...|          5|            0|          0|   N| 2015-06-01|            11|\n",
            "|      10468| RLB6FN2X6QUOC|B0031WNEHU|     544023666|14.80V,2600mAh,Li...|          5|            0|          0|   N| 2015-06-01|            11|\n",
            "|      10468|R2BRO21WIEDFAU|B0027CEMW6|     841455187|USB external CD-R...|          5|            0|          0|   N| 2015-06-01|            11|\n",
            "|      10468|R2LJQ5DC2678EG|B00333AWTA|       5504788|WiFi Wireless IEE...|          5|            1|          1|   N| 2015-06-01|            11|\n",
            "|      10468|R11JO78XO317AG|B009QBIZ60|     416047970|Samsung Portable ...|          5|            0|          0|   N| 2015-06-01|            11|\n",
            "|      10567| R1444RZZT5WPQ|B004L8XEGY|     828888682|20G HDD Hard Disk...|          5|            0|          0|   N| 2012-11-19|             1|\n",
            "+-----------+--------------+----------+--------------+--------------------+-----------+-------------+-----------+----+-----------+--------------+\n",
            "only showing top 20 rows\n",
            "\n"
          ]
        }
      ]
    },
    {
      "cell_type": "code",
      "source": [
        "# Load a function that allows us to select columns\n",
        "from pyspark.sql.functions import col\n",
        "\n",
        "review_id_df = database_count_df.select(['review_id','customer_id','product_id','product_parent','review_date'])\n",
        "review_id_df.show()"
      ],
      "metadata": {
        "colab": {
          "base_uri": "https://localhost:8080/"
        },
        "id": "2AVaPIg1hlrl",
        "outputId": "f182991b-bcdc-4b70-d920-e169808da96e"
      },
      "execution_count": 14,
      "outputs": [
        {
          "output_type": "stream",
          "name": "stdout",
          "text": [
            "+--------------+-----------+----------+--------------+-----------+\n",
            "|     review_id|customer_id|product_id|product_parent|review_date|\n",
            "+--------------+-----------+----------+--------------+-----------+\n",
            "|R34CAR0SJ03YEM|      10090|B003L5D0OE|     521418880| 2014-03-24|\n",
            "|R3TXK1GN22U6UO|      10140|B00K0OBEE2|     644761578| 2015-01-26|\n",
            "|R3VDP2WDUNGL6U|      10168|B004GYQR12|     648613926| 2014-01-23|\n",
            "|R24OEGBGJ3KTBW|      10168|B00B7KQ4K2|     124918725| 2013-03-28|\n",
            "|R28AFZSJ1JBII9|      10206|B00BHNNQBY|     603357256| 2014-03-25|\n",
            "|R3622VXACD25BM|      10206|B00AMVD9SC|     666314203| 2014-03-25|\n",
            "|R3BIMY6X5F9YM4|      10206|B00DUGJQEW|     823330197| 2014-03-12|\n",
            "| R3QLK4D0YMAJ4|      10206|B002WE4HE2|     589324478| 2014-03-12|\n",
            "| RPGQPG0T2FUJF|      10272|B00IRW1RDW|     236398619| 2015-07-22|\n",
            "| R7IVQU17B3NXP|      10368|B00JQZJ4OS|     937857628| 2015-06-11|\n",
            "| R9DZ1P2UNVWCO|      10368|B00H7TVB8C|     120771410| 2014-08-03|\n",
            "|R2SYKIXT24NQFS|      10368|B008YCYXHC|      13457726| 2014-08-03|\n",
            "|R3NSANU67UJBGB|      10377|B007PUUU76|     209009191| 2012-12-25|\n",
            "|R1LU5I1MILN25U|      10395|B008X6C4I4|     373080837| 2013-05-19|\n",
            "| RICG5EOETL7ZQ|      10414|B00951ULKO|     802129751| 2012-12-04|\n",
            "|R2YHD0OSFP66KB|      10414|B005AOKW8Q|     466691761| 2012-12-04|\n",
            "|R1II51N0DEZV5W|      10449|B00GU8OIYA|      28557231| 2015-04-27|\n",
            "|R1AHW1F8L5PFFM|      10468|B004EGEMMI|     742585752| 2015-07-21|\n",
            "|R2R7AS0YTVD6SE|      10468|B003M75D7I|     662730501| 2015-07-21|\n",
            "|R3AWZHJJU847K5|      10468|B0033Z2BAQ|     648698529| 2015-07-21|\n",
            "+--------------+-----------+----------+--------------+-----------+\n",
            "only showing top 20 rows\n",
            "\n"
          ]
        }
      ]
    },
    {
      "cell_type": "code",
      "source": [
        "products_df = database_count_df.select(['product_id','product_title'])\n",
        "products_df.show()"
      ],
      "metadata": {
        "colab": {
          "base_uri": "https://localhost:8080/"
        },
        "id": "LdSwopCY_8E3",
        "outputId": "00848c1b-d9ad-43cf-9a6c-5d4fe28d3dbb"
      },
      "execution_count": 16,
      "outputs": [
        {
          "output_type": "stream",
          "name": "stdout",
          "text": [
            "+----------+--------------------+\n",
            "|product_id|       product_title|\n",
            "+----------+--------------------+\n",
            "|B003L5D0OE|Mini SATA Cable w...|\n",
            "|B004GYQR12|Premium Bluetooth...|\n",
            "|B00B7KQ4K2|64GB Class 10 Mic...|\n",
            "|B00BHNNQBY|Poetic Slimbook L...|\n",
            "|B00AMVD9SC|Insten Universal ...|\n",
            "|B00DUGJQEW|Samsung Galaxy Ta...|\n",
            "|B002WE4HE2|Transcend 8 GB Cl...|\n",
            "|B00IRW1RDW|Fintie Dell Venue...|\n",
            "|B008X6C4I4|HDE Mini DisplayP...|\n",
            "|B00951ULKO|INVELLOP CRYSTAL ...|\n",
            "|B005AOKW8Q|Generic Styli for...|\n",
            "|B00GU8OIYA|Sabrent USB 2.0 H...|\n",
            "|B004EGEMMI|          SATA Cable|\n",
            "|B003M75D7I|Molex 4 Pin to 2 ...|\n",
            "|B0033Z2BAQ|Asus 24x DVD-RW S...|\n",
            "|B003IYS8SQ|Tenext Cat5 Netwo...|\n",
            "|B004S7WTJQ|Laptone 150Mbps H...|\n",
            "|B00N02BAV8|LG GH24NSC0B DVD ...|\n",
            "|B00BTQJ7SA|Rii I8 Mini 2.4Gh...|\n",
            "|B0031WNEHU|14.80V,2600mAh,Li...|\n",
            "+----------+--------------------+\n",
            "only showing top 20 rows\n",
            "\n"
          ]
        }
      ]
    },
    {
      "cell_type": "code",
      "source": [
        "customer_df = database_count_df.select(['customer_id','customer_count'])\n",
        "customer_df.show()"
      ],
      "metadata": {
        "colab": {
          "base_uri": "https://localhost:8080/"
        },
        "id": "-dCSSrpPAKBA",
        "outputId": "f495b0bb-b48d-4dc7-ee4b-6a3a274257cc"
      },
      "execution_count": 15,
      "outputs": [
        {
          "output_type": "stream",
          "name": "stdout",
          "text": [
            "+-----------+--------------+\n",
            "|customer_id|customer_count|\n",
            "+-----------+--------------+\n",
            "|      10016|             1|\n",
            "|      10019|             2|\n",
            "|      10019|             2|\n",
            "|      10040|             1|\n",
            "|      10045|             1|\n",
            "|      10052|             1|\n",
            "|      10090|             1|\n",
            "|      10136|             1|\n",
            "|      10140|             1|\n",
            "|      10141|             4|\n",
            "|      10141|             4|\n",
            "|      10141|             4|\n",
            "|      10141|             4|\n",
            "|      10147|             1|\n",
            "|      10168|             2|\n",
            "|      10168|             2|\n",
            "|      10206|             4|\n",
            "|      10206|             4|\n",
            "|      10206|             4|\n",
            "|      10206|             4|\n",
            "+-----------+--------------+\n",
            "only showing top 20 rows\n",
            "\n"
          ]
        }
      ]
    },
    {
      "cell_type": "code",
      "source": [
        "vine_df = database_count_df.select(['review_id','star_rating','helpful_votes','total_votes','vine'])\n",
        "vine_df.show()"
      ],
      "metadata": {
        "colab": {
          "base_uri": "https://localhost:8080/"
        },
        "id": "jncCGmm2ATDJ",
        "outputId": "79c07fa5-4404-4b0e-cb8f-488879ee2950"
      },
      "execution_count": 18,
      "outputs": [
        {
          "output_type": "stream",
          "name": "stdout",
          "text": [
            "+--------------+-----------+-------------+-----------+----+\n",
            "|     review_id|star_rating|helpful_votes|total_votes|vine|\n",
            "+--------------+-----------+-------------+-----------+----+\n",
            "| RUJTTWQWR0SVF|          5|            0|          0|   N|\n",
            "|R1Q7GL6UB7DX50|          5|            9|         11|   N|\n",
            "|R1X31YNZLSEI32|          5|            0|          0|   N|\n",
            "| RJ7QGUJT34AWZ|          5|            1|          2|   N|\n",
            "|R34CAR0SJ03YEM|          2|            0|          0|   N|\n",
            "|R1SN57A6HZZEI6|          4|            0|          0|   N|\n",
            "|R3TXK1GN22U6UO|          5|            0|          0|   N|\n",
            "|R3VDP2WDUNGL6U|          3|            0|          0|   N|\n",
            "|R24OEGBGJ3KTBW|          1|           66|         66|   N|\n",
            "|R28AFZSJ1JBII9|          5|            0|          0|   N|\n",
            "|R3622VXACD25BM|          5|            0|          0|   N|\n",
            "|R3BIMY6X5F9YM4|          4|            0|          0|   N|\n",
            "| R3QLK4D0YMAJ4|          2|            0|          1|   N|\n",
            "| RPGQPG0T2FUJF|          3|            0|          0|   N|\n",
            "| RFGVBZEBRVE1A|          3|            0|          0|   N|\n",
            "|R2L4KUOE8QNS6M|          4|            0|          0|   N|\n",
            "| RJWB7K2RP3H1I|          4|            0|          0|   N|\n",
            "| R7IVQU17B3NXP|          5|            0|          0|   N|\n",
            "| R9DZ1P2UNVWCO|          4|            0|          0|   N|\n",
            "|R2SYKIXT24NQFS|          1|            1|          1|   N|\n",
            "+--------------+-----------+-------------+-----------+----+\n",
            "only showing top 20 rows\n",
            "\n"
          ]
        }
      ]
    },
    {
      "cell_type": "markdown",
      "source": [
        "Postgres Setup"
      ],
      "metadata": {
        "id": "GM7eiRwmYHdP"
      }
    },
    {
      "cell_type": "code",
      "source": [
        "## Values hidden for privacy\n",
        "\n",
        "aws_endpoint = '###'\n",
        "aws_port = '###'\n",
        "aws_db = '###'\n",
        "aws_username = '###'\n",
        "aws_password = '###'"
      ],
      "metadata": {
        "id": "9vv6ER1qYHAM"
      },
      "execution_count": 19,
      "outputs": []
    },
    {
      "cell_type": "code",
      "source": [
        "jdbc_url=f'jdbc:postgresql://{aws_endpoint}:{aws_port}/{aws_db}'\n",
        "\n",
        "config = {\"user\": f'{aws_username}', \n",
        "          \"password\": f'{aws_password}', \n",
        "          \"driver\":\"org.postgresql.Driver\"}\n",
        "\n",
        "mode = 'overwrite' "
      ],
      "metadata": {
        "id": "iyyAtXc1YYNO"
      },
      "execution_count": 20,
      "outputs": []
    },
    {
      "cell_type": "code",
      "source": [
        "review_id_df .write.jdbc(url=jdbc_url, table='review_id_table', mode=mode, properties=config)"
      ],
      "metadata": {
        "id": "QBfWITi-YlOE"
      },
      "execution_count": 21,
      "outputs": []
    },
    {
      "cell_type": "code",
      "source": [
        "products_df .write.jdbc(url=jdbc_url, table='products', mode=mode, properties=config)"
      ],
      "metadata": {
        "id": "-c1KvXEXYzea"
      },
      "execution_count": null,
      "outputs": []
    },
    {
      "cell_type": "code",
      "source": [
        "customer_df.write.jdbc(url=jdbc_url, table='customers', mode=mode, properties=config)"
      ],
      "metadata": {
        "id": "g7Q0_RVsYziD"
      },
      "execution_count": 23,
      "outputs": []
    },
    {
      "cell_type": "code",
      "source": [
        "vine_df.write.jdbc(url=jdbc_url, table='vine_table', mode=mode, properties=config)"
      ],
      "metadata": {
        "id": "YIKsXot7Yzk4"
      },
      "execution_count": 24,
      "outputs": []
    }
  ]
}